{
 "cells": [
  {
   "cell_type": "markdown",
   "id": "c748ace1",
   "metadata": {},
   "source": [
    "<h1>Proyecto \"Forecasting de Abastecimiento de Equipos Móviles\"</h1>"
   ]
  },
  {
   "cell_type": "markdown",
   "id": "5ce5e372",
   "metadata": {},
   "source": [
    "<img src='../resources/Fondo_Datathon_Entel.jpeg'></img>"
   ]
  },
  {
   "cell_type": "markdown",
   "id": "f2f477bd",
   "metadata": {},
   "source": [
    "\n",
    "\n",
    "<p>Desarrollado por:<b> Insight ML</b></p>\n",
    "\n",
    "\n",
    "<div>\n",
    "    <b>Integrantes</b> \n",
    "    <ul>\n",
    "        <li>Renato Castro Cruz</li>\n",
    "        <li>Cristian Lazo Quispe</li>\n",
    "    </ul>\n",
    "</div>\n",
    "\n",
    "\n",
    "<div><b>Descripción del reto</b></div>\n",
    "\n",
    "<div>\n",
    "    <p>El reto consiste en desarrollar un algoritmo que prediga la demanda de un modelo en un punto de venta de acuerdo a su gama semanalmente, sin usar herramientas, aplicaciones y/o API de paga y además de no generar gastos. <b>Esto es una restricción muy importante</b></p>\n",
    "</div>\n",
    "\n",
    "\n",
    "<div><b>Descripción del dataset</b></div>\n",
    "<div>\n",
    "    Se va a predecir a nivel de semana y se tiene los siguientes archivos:\n",
    "\n",
    "<div>Files\n",
    "    <ul>\n",
    "        <li>train.csv - Data de entrenamiento. Desde la semana 1 (17/05/2021-23/05/2021) hasta la semana 50 (25/04/2022- 1/05/2022)</li>\n",
    "        <li>test.csv - Data de test. Desde la semana 51 (2/05/2022-8/05/2022) hasta la semana 60 (4/07/2022-10/07/2022)</li>\n",
    "        <li>test_sample.csv - Un ejemplo de submission en el formato correcto</li>\n",
    "    </ul>\n",
    "</div>\n",
    "    \n",
    "    \n",
    "<div>ColumnsColumns\n",
    "    <ul>\n",
    "        <li>Z_MARCA - Marca del equipoZ_MARCA - Marca del equipo</li>\n",
    "        <li>Z_GAMA - Gama del equipoZ_GAMA - Gama del equipo</li>\n",
    "        <li>Z_MODELO - ModeloZ_MODELO - Modelo</li>\n",
    "        <li>Z_DEPARTAMENTO - Departamento del Perú del punto de venta</li>\n",
    "        <li>Z_PUNTO_VENTA - Punto de venta a abastecer</li>\n",
    "        <li>SEMANA_XX - Semana de abastecimiento de acuerdo con el modelo, punto de venta y gama</li>\n",
    "    </ul>\n",
    "</div>\n",
    "    \n",
    "<div><b>Target</b></div>\n",
    "\n",
    "<div>\n",
    "    <p>Se pide determinar la demanda semanal de un modelo en un punto de venta de acuerdo a su gama.</p>\n",
    "</div>\n",
    "\n",
    "<div><b>Evaluación</b></div>\n",
    "\n",
    "<div>\n",
    "    <p>Se evaluará a los participantes en función del RMSE, de menor a mayor. Durante la competencia se reportarán resultados sobre un subconjunto del set de evaluación (50%), pero los resultados finales se calcularán sobre los datos restantes (50%)</p>\n",
    "</div>\n",
    "\n",
    "<div><b>Formato del Kaggle Submission</b></div>\n",
    "\n",
    "<div>\n",
    "    <p>Para todos los participantes, los archivos subidos deberán tener las siguientes columnas: ID yDemanda. Tener en cuenta que el valor de \"Demanda\" hace referencia al valor forecasteado. Al mismo tiempo, la estructura de la variable \"ID\" es Modelo|Punto de venta|Gama|# Semana.</p>\n",
    "</div>\n",
    "\n",
    "<div>   \n",
    "El formato del archivo será el siguiente:\n",
    "\n",
    "<pre><code>ID,Demanda\n",
    "XXXX|PDV1|XXXX|Semana 55,1\n",
    "XXXX|PDV1|XXXX|Semana 56,2\n",
    "XXXX|PDV1|XXXX|Semana 57,3\n",
    "</code></pre>\n",
    "\n",
    "</div>\n",
    "<p></p>\n",
    "<div>\n",
    "    <b>Lenguajes de Programación, Librerías, Frameworks a usar</b>\n",
    "</div>\n",
    "<p></p>\n",
    "<div>\n",
    "    Lenguajes de Programación:\n",
    "    <ul>\n",
    "        <li><a href='https://www.anaconda.com/'>Anaconda - Python</a></li>\n",
    "        <li><a href='https://www.javascript.com/'>Javascript</a></li>\n",
    "    </ul>\n",
    "</div>\n",
    "\n",
    "<div>\n",
    "    Frameworks y librerías:\n",
    "    <ul>\n",
    "        <li><a href='https://scikit-learn.org/stable/'>Scikit-learn</a>, <a href='https://pandas.pydata.org/'>Pandas</a>, <a href='https://numpy.org/'>Numpy</a></li>\n",
    "        <li><a href='https://lightgbm.readthedocs.io/en/latest/index.html'>LightGBM</a>, <a href='https://xgboost.ai/'>XgBoost</a>, <a href='https://catboost.ai/'>CatBoost</a></li>\n",
    "        <li><a href='http://seaborn.pydata.org/'>Seaborn</a>, <a href='https://plotly.com/python/'>Plotly</a></li>\n",
    "        <li><a href='https://facebook.github.io/prophet/'>Prophet</a></li>\n",
    "        <li><a href='https://pytorch.org/'>PyTorch</a></li>\n",
    "    </ul>\n",
    "</div>\n",
    "\n",
    "\n",
    "<div><b>Recursos que nos ayudaron en el desarrollo del proyecto:</b></div>\n",
    "\n",
    "<div>\n",
    "    Kaggle Competitions:\n",
    "    <ul>\n",
    "        <li><a href='https://www.kaggle.com/competitions/m5-forecasting-accuracy'>M5 Forecasting Accuracy 2020</a></li>\n",
    "        <li><a href='https://www.kaggle.com/competitions/store-sales-time-series-forecasting'>Store Sales - Time Series Forecasting</a></li>\n",
    "    </ul>\n",
    "</div>\n",
    "\n",
    "<div>\n",
    "    Videos:\n",
    "    <ul>\n",
    "        <li><a href='https://www.youtube.com/watch?v=VYpAodcdFfA'>Two Effective Algorithms for Time Series Forecasting</a></li>\n",
    "        <li><a href='https://www.youtube.com/watch?v=pOYAXv15r3A'>Forecasting at Scale: How and Why We Developed Prophet for Forecasting at Facebook</a></li>\n",
    "    </ul>\n",
    "</div>"
   ]
  },
  {
   "cell_type": "markdown",
   "id": "a714b062",
   "metadata": {},
   "source": [
    "<h2>Inicializar Proyecto</h2>"
   ]
  },
  {
   "cell_type": "markdown",
   "id": "9dba2449",
   "metadata": {},
   "source": [
    "<h3 name='entender-entorno'>Entendimiento del repositorio</h3>"
   ]
  },
  {
   "cell_type": "markdown",
   "id": "15e94914",
   "metadata": {},
   "source": [
    "El repositorio contiene el siguiente esquema:"
   ]
  },
  {
   "cell_type": "markdown",
   "id": "f3dc7e18",
   "metadata": {},
   "source": [
    "<img src='../resources/Esquema_Repositorio_Windows.png'></img>"
   ]
  },
  {
   "cell_type": "markdown",
   "id": "84c2b514",
   "metadata": {},
   "source": [
    "<ul>\n",
    "    <li>Carpeta <b>dataset:</b> Se encuentra las carpetas con los archivos originales de kaggle correspondientes al train y el test</li>\n",
    "    <li>Carpeta <b>notebooks:</b> Se encuentra los notebooks de jupyter donde se correrá el pipeline para generar el output del proyecto</li>\n",
    "    <li>Carpeta <b>.ipynb_checkpoints:</b> Contiene checkpoints y logs de los notebooks de jupyter notebook o jupyter lab. No es importante para el proyecto</li>\n",
    "    <li>Carpeta <b>catboost_info:</b> Contiene checkpoints ylogs de los modelos de catboost a entrenarse. No es importante para el proyecto</li>\n",
    "</ul>\n",
    "\n",
    "<b>OBS: Los comentarios de las líneas de código de Python estarán en inglés para que se mantenga el estándar universal de programación.</b> "
   ]
  },
  {
   "cell_type": "markdown",
   "id": "082187d2",
   "metadata": {},
   "source": [
    "<h3 name='instalacion-librerias'>Instalación de Librerías</h3>"
   ]
  },
  {
   "cell_type": "markdown",
   "id": "437c78c9",
   "metadata": {},
   "source": [
    "Es necesario seguir el Readme del <a href= 'https://github.com/renatocastro33/DATATHON-ENTEL-2022---Reto2'>github</a>  y realizar la instalación de las librerías que se encuentran en el file requirements.txt desde el anaconda prompt o terminal del sistema operativo, estas librerías son necesarios para la ejecución de todos los notebooks. Igualmente debemos asegurar que la computadora donde se corra el repositorio del proyecto tenga una versión de Python 3.8 para que sea compatible, en todo caso creemos que la mínima versión sea Python 3.7."
   ]
  },
  {
   "cell_type": "markdown",
   "id": "4174a901",
   "metadata": {},
   "source": [
    "En caso no se tenga experiencia instalando librerías desde un archivo txt puedes descomentar el siguiente bloque de código. Si ya instalaste el requirements.txt en todo caso puedes ignorar y seguir a <b>1.2. Lectura de Librerías</b>."
   ]
  },
  {
   "cell_type": "code",
   "execution_count": 1,
   "id": "0d2513df",
   "metadata": {},
   "outputs": [],
   "source": [
    "### Libraries Installation ###\n",
    "# only if you did not install with pip install requirements.txt\n",
    "\n",
    "#!pip install pandas\n",
    "#!pip install seaborn\n",
    "#!pip install pickle\n",
    "#!pip install inspect\n",
    "#!pip install numpy\n",
    "#!pip install lightgbm\n",
    "#!pip install xgboost\n",
    "#!pip install catboost\n",
    "#pip install prophet\n",
    "#pip install tqdm\n",
    "#pip install plotly-express\n",
    "#!pip install scikit-learn\n",
    "#!pip install statsmodels"
   ]
  },
  {
   "cell_type": "markdown",
   "id": "c4fb14ea",
   "metadata": {},
   "source": [
    "<h3 name='lectura-librerias'>Lectura de Librerías</h3>"
   ]
  },
  {
   "cell_type": "markdown",
   "id": "9f6128c6",
   "metadata": {},
   "source": [
    "Las librerías que usaremos para esta sección serán de Ciencia de Datos para manipulación de data, y visualización de datos. Así mismo otras librerías que nos ayudarán a tener un código limpio y ordenado"
   ]
  },
  {
   "cell_type": "code",
   "execution_count": 2,
   "id": "c2bbed98",
   "metadata": {},
   "outputs": [],
   "source": [
    "### Librerías de Ciencia de Datos ###\n",
    "import numpy as np # Librería de operaciones matriciales\n",
    "import pandas as pd # Librería de manipulación de data tabular\n",
    "import seaborn as sns # Librería de Data Visualization\n",
    "\n",
    "### Otras Librerías Útiles ###\n",
    "import inspect # Librería que permite listar variables del kernel presente\n",
    "import os # Librería para realizar comandos de sistema operativo\n",
    "import datetime # Librería para manejar clases de tiempo y fechas\n",
    "import warnings # Librería para ignorar warnings\n",
    "warnings.filterwarnings('ignore') #Ignoraremos cualquier warning con esta librería\n",
    "import random # Librería para generar número(s) random\n",
    "import pickle # Librería para leer archivos pickle\n",
    "import utils_entel # Funciones del archivo utils_entel.py que nos ayudará con nuestro preprocessing"
   ]
  },
  {
   "cell_type": "markdown",
   "id": "81cb5d04",
   "metadata": {},
   "source": [
    "<h2 name='lectura-librerias'>Data Understanding</h2>"
   ]
  },
  {
   "cell_type": "markdown",
   "id": "d259456b",
   "metadata": {},
   "source": [
    "<h3>Lectura del Dataset</h3>"
   ]
  },
  {
   "cell_type": "markdown",
   "id": "68e050b8",
   "metadata": {},
   "source": [
    "Procedemos a leer los files del Dataset, y realizaremos un poco de Data Understanding de como viene la data tabular para realizar el Data Preprocessing con la finalidad de tener un buen Exploratory data analysis."
   ]
  },
  {
   "cell_type": "code",
   "execution_count": 3,
   "id": "5147960d",
   "metadata": {},
   "outputs": [],
   "source": [
    "### Lectura del Train Dataset y Test Dataset ###\n",
    "\n",
    "directory_path = os.getcwd() # Guardamos el directorio donde nos encontramos para evitar hardcodeo.\n",
    "raw_train = pd.read_csv(os.path.join(directory_path, '..\\\\dataset\\\\train\\\\train.csv')) # Usando el esquema descrito arriba procedemos a el archivo de train\n",
    "raw_test = pd.read_csv(os.path.join(directory_path, '..\\\\dataset\\\\test\\\\test.csv')) # Usando el esquema descrito arriba procedemos a el archivo de test"
   ]
  },
  {
   "cell_type": "code",
   "execution_count": 4,
   "id": "ba3117e0",
   "metadata": {},
   "outputs": [
    {
     "data": {
      "text/plain": [
       "{'SEMANA_51',\n",
       " 'SEMANA_52',\n",
       " 'SEMANA_53',\n",
       " 'SEMANA_54',\n",
       " 'SEMANA_55',\n",
       " 'SEMANA_56',\n",
       " 'SEMANA_57',\n",
       " 'SEMANA_58',\n",
       " 'SEMANA_59',\n",
       " 'SEMANA_60'}"
      ]
     },
     "execution_count": 4,
     "metadata": {},
     "output_type": "execute_result"
    }
   ],
   "source": [
    "set(raw_test.columns)-set(raw_train.columns) # Vemos que columnas son diferentes entre el train y test"
   ]
  },
  {
   "cell_type": "code",
   "execution_count": 5,
   "id": "4b48fe3a",
   "metadata": {},
   "outputs": [
    {
     "data": {
      "text/plain": [
       "Index(['Z_MARCA', 'Z_GAMA', 'Z_MODELO', 'Z_DEPARTAMENTO', 'Z_PUNTO_VENTA',\n",
       "       'SEMANA_01', 'SEMANA_02', 'SEMANA_03', 'SEMANA_04', 'SEMANA_05',\n",
       "       'SEMANA_06', 'SEMANA_07', 'SEMANA_08', 'SEMANA_09', 'SEMANA_10',\n",
       "       'SEMANA_11', 'SEMANA_12', 'SEMANA_13', 'SEMANA_14', 'SEMANA_15',\n",
       "       'SEMANA_16', 'SEMANA_17', 'SEMANA_18', 'SEMANA_19', 'SEMANA_20',\n",
       "       'SEMANA_21', 'SEMANA_22', 'SEMANA_23', 'SEMANA_24', 'SEMANA_25',\n",
       "       'SEMANA_26', 'SEMANA_27', 'SEMANA_28', 'SEMANA_29', 'SEMANA_30',\n",
       "       'SEMANA_31', 'SEMANA_32', 'SEMANA_33', 'SEMANA_34', 'SEMANA_35',\n",
       "       'SEMANA_36', 'SEMANA_37', 'SEMANA_38', 'SEMANA_39', 'SEMANA_40',\n",
       "       'SEMANA_41', 'SEMANA_42', 'SEMANA_43', 'SEMANA_44', 'SEMANA_45',\n",
       "       'SEMANA_46', 'SEMANA_47', 'SEMANA_48', 'SEMANA_49', 'SEMANA_50'],\n",
       "      dtype='object')"
      ]
     },
     "execution_count": 5,
     "metadata": {},
     "output_type": "execute_result"
    }
   ],
   "source": [
    "raw_train.columns # Enlistamos las columnas del train"
   ]
  },
  {
   "cell_type": "code",
   "execution_count": 6,
   "id": "b78ab2a9",
   "metadata": {},
   "outputs": [
    {
     "data": {
      "text/plain": [
       "Index(['Z_MARCA', 'Z_GAMA', 'Z_MODELO', 'Z_DEPARTAMENTO', 'Z_PUNTO_VENTA',\n",
       "       'SEMANA_51', 'SEMANA_52', 'SEMANA_53', 'SEMANA_54', 'SEMANA_55',\n",
       "       'SEMANA_56', 'SEMANA_57', 'SEMANA_58', 'SEMANA_59', 'SEMANA_60'],\n",
       "      dtype='object')"
      ]
     },
     "execution_count": 6,
     "metadata": {},
     "output_type": "execute_result"
    }
   ],
   "source": [
    "raw_test.columns # Enlistamos las columnas del test"
   ]
  },
  {
   "cell_type": "code",
   "execution_count": 7,
   "id": "65b12e43",
   "metadata": {},
   "outputs": [
    {
     "name": "stdout",
     "output_type": "stream",
     "text": [
      "Shape value of  raw_train  is:  (47173, 55)\n",
      "Shape value of  raw_test  is:  (47173, 15)\n"
     ]
    }
   ],
   "source": [
    "### Hallamos la cantidad de registros que hay en cada uno ###\n",
    "utils_entel.decorative_function_dataframe_value('Shape value of ',utils_entel.get_variable_name(raw_train), raw_train.shape)\n",
    "utils_entel.decorative_function_dataframe_value('Shape value of ',utils_entel.get_variable_name(raw_test), raw_test.shape)"
   ]
  },
  {
   "cell_type": "code",
   "execution_count": 8,
   "id": "4d386f84",
   "metadata": {},
   "outputs": [
    {
     "data": {
      "text/plain": [
       "<AxesSubplot:>"
      ]
     },
     "execution_count": 8,
     "metadata": {},
     "output_type": "execute_result"
    },
    {
     "data": {
      "image/png": "[encoded data removed]",
      "text/plain": [
       "<Figure size 432x288 with 2 Axes>"
      ]
     },
     "metadata": {
      "needs_background": "light"
     },
     "output_type": "display_data"
    }
   ],
   "source": [
    "### Chequeo de valores nulos en el raw_train ###\n",
    "sns.heatmap(raw_train.isna())\n",
    "### Conclusion: Ningún valor nulo ###"
   ]
  },
  {
   "cell_type": "code",
   "execution_count": 9,
   "id": "baf8ad36",
   "metadata": {},
   "outputs": [
    {
     "data": {
      "text/plain": [
       "<AxesSubplot:>"
      ]
     },
     "execution_count": 9,
     "metadata": {},
     "output_type": "execute_result"
    },
    {
     "data": {
      "image/png": "[encoded data removed]",
      "text/plain": [
       "<Figure size 432x288 with 2 Axes>"
      ]
     },
     "metadata": {
      "needs_background": "light"
     },
     "output_type": "display_data"
    }
   ],
   "source": [
    "### Chequeo de valores nulos en el raw_test ###\n",
    "sns.heatmap(raw_test.isna())\n",
    "### Conclusion: Ningún valor nulo ###"
   ]
  },
  {
   "cell_type": "code",
   "execution_count": 10,
   "id": "0fe5f796",
   "metadata": {},
   "outputs": [],
   "source": [
    "'''\n",
    "Se conviene guardar las columnas descriptivas ya que se vio en los pasos previos que tiene valores anonimizados.\n",
    "La idea es tener valores más simples que nos permita trabajar bien la visualización de datos y modelado.\n",
    "Realizando el paso procederemos a mapear cada columna con valores anónimos en valores más simples.\n",
    "\n",
    "E.g:\n",
    "\n",
    "285075a02b2679248a6b4636c3328bd3097626607c3e43c0c5498258fbfa9f29  -> MARCA_1\n",
    "'''\n",
    "descriptive_columns = ['Z_MARCA', 'Z_GAMA', 'Z_MODELO',\n",
    "                       'Z_DEPARTAMENTO', 'Z_PUNTO_VENTA']"
   ]
  },
  {
   "cell_type": "code",
   "execution_count": 11,
   "id": "212c1e21",
   "metadata": {},
   "outputs": [
    {
     "data": {
      "text/plain": [
       "(47173, 5)"
      ]
     },
     "execution_count": 11,
     "metadata": {},
     "output_type": "execute_result"
    }
   ],
   "source": [
    "raw_train[descriptive_columns].drop_duplicates().shape\n",
    "### Conclusion: Las 5 columnas concatenadas no tiene duplicados entre sí ###"
   ]
  },
  {
   "cell_type": "code",
   "execution_count": 12,
   "id": "b8cf9c01",
   "metadata": {},
   "outputs": [
    {
     "name": "stdout",
     "output_type": "stream",
     "text": [
      "######  Z_MARCA  TRAIN INFO ####\n",
      "\n",
      "285075a02b2679248a6b4636c3328bd3097626607c3e43c0c5498258fbfa9f29    11888\n",
      "9fc7c2306f5afb4bfe47feefbd193f245633febbb1817113fdf0a768172285b5    10631\n",
      "5132f94c2aebce767bd61d9e8f0d4f681d0809ca90cd2cd09be494f221367bb5     5951\n",
      "09c32757a9ca408c829114503523a5e6762dd1ba2b81067ad113837c1b30188b     5005\n",
      "f223faa96f22916294922b171a2696d868fd1f9129302eb41a45b2a2ea2ebbfd     2844\n",
      "df853f864c74fa85acd3a25cd0afed68f1f1d0ab249e17cdb25e77569ac595a2     2364\n",
      "4b1acc0002585cda1245f0e07c6f58ff0e3b5a0e8d3187fa55d6e0ed43836c1d     1317\n",
      "0855cd73c3a9dc2c31a7c4dcaecfd53282238c6a457a5c771cbee045c0d9a521     1225\n",
      "53c759c773f2b832ddcc61534bdb919d44e03be212241e7dad49b286afa95340     1211\n",
      "f41bcffa7463b16f9fea3293a550589718777902b4406c44e3150dad7c47bc3c      936\n",
      "22ea092e7643557ea91b74dea27589acac28a04fce976c577c422cd3ee1c9dc2      864\n",
      "c0dd56d5b73d72cbd9a3df3f70e0df98ce15417d0f8c3a678280beb763388a4f      724\n",
      "1d45ae99abcc02002be90eabecf61d0ce0613d1de5f0c37ddd7bbbd7e8198cf5      637\n",
      "c25b14ec280222786bd605c2e1d072a98fc18612a2dfe094da1a269e436f4621      608\n",
      "2aca20d3a48b13f1d2ee88e9746a4fb6d2846684084819272d6e5ff8809d62aa      421\n",
      "b870b7809747623def661ded7b0da0e52beddfc50235bbda65f1e8a34350ff7a      356\n",
      "f4920dac3075feca0bd92a92f6691f50e9f815e5e398f88c188499875b4a5129      191\n",
      "Name: Z_MARCA, dtype: int64\n",
      "######  Z_MARCA  TEST INFO ####\n",
      "\n",
      "285075a02b2679248a6b4636c3328bd3097626607c3e43c0c5498258fbfa9f29    11888\n",
      "9fc7c2306f5afb4bfe47feefbd193f245633febbb1817113fdf0a768172285b5    10631\n",
      "5132f94c2aebce767bd61d9e8f0d4f681d0809ca90cd2cd09be494f221367bb5     5951\n",
      "09c32757a9ca408c829114503523a5e6762dd1ba2b81067ad113837c1b30188b     5005\n",
      "f223faa96f22916294922b171a2696d868fd1f9129302eb41a45b2a2ea2ebbfd     2844\n",
      "df853f864c74fa85acd3a25cd0afed68f1f1d0ab249e17cdb25e77569ac595a2     2364\n",
      "4b1acc0002585cda1245f0e07c6f58ff0e3b5a0e8d3187fa55d6e0ed43836c1d     1317\n",
      "0855cd73c3a9dc2c31a7c4dcaecfd53282238c6a457a5c771cbee045c0d9a521     1225\n",
      "53c759c773f2b832ddcc61534bdb919d44e03be212241e7dad49b286afa95340     1211\n",
      "f41bcffa7463b16f9fea3293a550589718777902b4406c44e3150dad7c47bc3c      936\n",
      "22ea092e7643557ea91b74dea27589acac28a04fce976c577c422cd3ee1c9dc2      864\n",
      "c0dd56d5b73d72cbd9a3df3f70e0df98ce15417d0f8c3a678280beb763388a4f      724\n",
      "1d45ae99abcc02002be90eabecf61d0ce0613d1de5f0c37ddd7bbbd7e8198cf5      637\n",
      "c25b14ec280222786bd605c2e1d072a98fc18612a2dfe094da1a269e436f4621      608\n",
      "2aca20d3a48b13f1d2ee88e9746a4fb6d2846684084819272d6e5ff8809d62aa      421\n",
      "b870b7809747623def661ded7b0da0e52beddfc50235bbda65f1e8a34350ff7a      356\n",
      "f4920dac3075feca0bd92a92f6691f50e9f815e5e398f88c188499875b4a5129      191\n",
      "Name: Z_MARCA, dtype: int64\n",
      "The set with the columns that have different values:  set()\n",
      "\n",
      "##############################\n",
      "\n",
      "######  Z_GAMA  TRAIN INFO ####\n",
      "\n",
      "76df0c6db32d4e04e0ef6a3a6a1e1686677e34308d9435892b1ab5713e57d470    20785\n",
      "c4ebc6d4a5832cd9415f906ad03661110c705a72381c8b8b145761d02e2dd23a    12249\n",
      "de88c121a82a06352bf1aaceba20578356408a334ba046a1084d4e50da923c5e     5576\n",
      "8563abec343968034b0624650aed7254081e9e39e6b32ed45171fe31f6b7ee59     4453\n",
      "f793de205ead5ac302c4a1627829dea41f176b1068b993a32373fc869918374b     3719\n",
      "392323a5d3dcd1a8e9076af54e17b493ec11dceab6311d4bbab6044846cbbc3f      390\n",
      "14a2db592fdae9640e32d665e0b0007aecdf0dcad631fed35a1e60a23bef683a        1\n",
      "Name: Z_GAMA, dtype: int64\n",
      "######  Z_GAMA  TEST INFO ####\n",
      "\n",
      "76df0c6db32d4e04e0ef6a3a6a1e1686677e34308d9435892b1ab5713e57d470    20785\n",
      "c4ebc6d4a5832cd9415f906ad03661110c705a72381c8b8b145761d02e2dd23a    12249\n",
      "de88c121a82a06352bf1aaceba20578356408a334ba046a1084d4e50da923c5e     5576\n",
      "8563abec343968034b0624650aed7254081e9e39e6b32ed45171fe31f6b7ee59     4453\n",
      "f793de205ead5ac302c4a1627829dea41f176b1068b993a32373fc869918374b     3719\n",
      "392323a5d3dcd1a8e9076af54e17b493ec11dceab6311d4bbab6044846cbbc3f      390\n",
      "14a2db592fdae9640e32d665e0b0007aecdf0dcad631fed35a1e60a23bef683a        1\n",
      "Name: Z_GAMA, dtype: int64\n",
      "The set with the columns that have different values:  set()\n",
      "\n",
      "##############################\n",
      "\n",
      "######  Z_MODELO  TRAIN INFO ####\n",
      "\n",
      "b48f98af5dc143cab1e64b72394fc2a31c8f2f53e20101b4183bad845e55e08c    481\n",
      "22e56e1cdf31281d499722a08d6bc23d10f6464b95d3f87a1632de534fd96815    479\n",
      "5cee5be86c7a5465071316a4046784896a2939c525c348a24fbb0a4a9bf66487    479\n",
      "7f3c23cabb48628e7e3f10234eeae4d1391505ec8fd1ada732624bdc617824f3    470\n",
      "1d4e22c0856f42bc31146274374980ed03e6043e0b0a738de5011a8aff3a6e15    470\n",
      "                                                                   ... \n",
      "bbc3d78ddab07690cac498e67cfd389c9b5ad0a029bbbb53bbdf5097fad5ceae      1\n",
      "5d3674272fb8c90c7b18239d1d502b3f7d04a9a221022d258829d5c2ee4d9095      1\n",
      "744850143a5e7e0e2ac0d8d62fa22a282cdf73e275f4e93b64a1ba11a06e7584      1\n",
      "cbb6d6e49778618d7864a3a1ce17cf5633e1e14a2edb30b1ffec6af85e624b98      1\n",
      "f0465138ce3c092d78c1e33657fe604564d40cdc8cb1969b81c1c031b58ced70      1\n",
      "Name: Z_MODELO, Length: 318, dtype: int64\n",
      "######  Z_MODELO  TEST INFO ####\n",
      "\n",
      "b48f98af5dc143cab1e64b72394fc2a31c8f2f53e20101b4183bad845e55e08c    481\n",
      "22e56e1cdf31281d499722a08d6bc23d10f6464b95d3f87a1632de534fd96815    479\n",
      "5cee5be86c7a5465071316a4046784896a2939c525c348a24fbb0a4a9bf66487    479\n",
      "7f3c23cabb48628e7e3f10234eeae4d1391505ec8fd1ada732624bdc617824f3    470\n",
      "1d4e22c0856f42bc31146274374980ed03e6043e0b0a738de5011a8aff3a6e15    470\n",
      "                                                                   ... \n",
      "bbc3d78ddab07690cac498e67cfd389c9b5ad0a029bbbb53bbdf5097fad5ceae      1\n",
      "5d3674272fb8c90c7b18239d1d502b3f7d04a9a221022d258829d5c2ee4d9095      1\n",
      "744850143a5e7e0e2ac0d8d62fa22a282cdf73e275f4e93b64a1ba11a06e7584      1\n",
      "cbb6d6e49778618d7864a3a1ce17cf5633e1e14a2edb30b1ffec6af85e624b98      1\n",
      "f0465138ce3c092d78c1e33657fe604564d40cdc8cb1969b81c1c031b58ced70      1\n",
      "Name: Z_MODELO, Length: 318, dtype: int64\n",
      "The set with the columns that have different values:  set()\n",
      "\n",
      "##############################\n",
      "\n",
      "######  Z_DEPARTAMENTO  TRAIN INFO ####\n",
      "\n",
      "d6c21b948958417ca98b682a573eb8aa1084b292d32f760f253ef53da13e5589    20475\n",
      "110820d992b7649baca108cda049eff2fcf6804fd4c989a60e4128406d56b14c     3091\n",
      "1fdd6772a58aa4eaf8c0055dfc2041085e5fc1e18aae6e9a2ad7db83f2355c5c     3046\n",
      "1e4e6d80f0a8df2a8145eec37f6efe3d0f7909cf05a4da01ac9eb0886dff2122     2944\n",
      "6375751784407a687081e34abb7c3e44a1d37b2d02ca31b97daf7131f0cc2ce8     2240\n",
      "7556b904d2033b7ef193294c2223f4c162c9e6337fc1a37cb5a926c605ab639e     2058\n",
      "5cd7368176e519fd5ccff4d61db909e869586b350e02f9ca13ff19de8e75c548     1771\n",
      "654cc2e01783fa726c8b5743841202e3f95ae18fb4697f2a56f47cbe3d736434     1583\n",
      "2170256e37ed495d1b4beceb046f9882b7d3628336fc04b9f6844822bc0f059a     1442\n",
      "b15acf3f3f9ac39f827a8f5e4559b8663be3b48b283dcd373a3dec87a1b3c902     1211\n",
      "28fa9368ededd016d5bd24b5d59fd461840dd1cc4fdaa8e62ed54bbdf51fa42e     1208\n",
      "591c0a0133cb5fcd00af7bbf046f094256901239749fb779b3c5aba2cfa66af7      958\n",
      "588ad85b346966aa3c52a8c80b4da62b8d8e39e6f37f38eb8a3907cba122bbca      944\n",
      "6ff2a97bf9139cd1f16dfd60cb95f37b7a74901738f7e7154d439002ca56bdb1      829\n",
      "ee5949f8b5ff823b330c243762295ce7ede1a751f35b941253cb473ca63e7d53      817\n",
      "b4881844f3dc91fa8992ca5489c7a0e31f23f1d14744619fd0a71b2d6da79139      522\n",
      "b4fe46822b8133e110db34fc42f36dc17c825ee69cb7a300fe10119722f801db      467\n",
      "1a7f1b5c30851a16a7831c496ed9e3d33e013f3a6e56713a0dcfa57189cee037      436\n",
      "e664206bf198ba39ebbfebb28817083919e34e7ab81caeeea5d30b980b4f58b6      254\n",
      "89e386538bdee9222240ad020bad45bbdfc465ef98a269fb9a2e43f430737910      234\n",
      "c128764a760c53a40bf2f3595b8cc89f4f43a8ea977f9d3d872b9f665f0bae2e      190\n",
      "c6fb05363dbe1210b658f130faf72d57c364e2e98fb5eae38c97f7e0a8482d42      169\n",
      "b265454a0d9f1a95defdde88e744ba25914f11a13667e63e902cd6dcb197aa34      104\n",
      "aa34223f43ece8f311e87687550cc5cd8e90d0e08d8545f3e93da2c4dccbb581       95\n",
      "41e2c31b68bdc286a69459b7899e425343891c59d4ee0cee2d135881a9dc6302       85\n",
      "Name: Z_DEPARTAMENTO, dtype: int64\n",
      "######  Z_DEPARTAMENTO  TEST INFO ####\n",
      "\n",
      "d6c21b948958417ca98b682a573eb8aa1084b292d32f760f253ef53da13e5589    20475\n",
      "110820d992b7649baca108cda049eff2fcf6804fd4c989a60e4128406d56b14c     3091\n",
      "1fdd6772a58aa4eaf8c0055dfc2041085e5fc1e18aae6e9a2ad7db83f2355c5c     3046\n",
      "1e4e6d80f0a8df2a8145eec37f6efe3d0f7909cf05a4da01ac9eb0886dff2122     2944\n",
      "6375751784407a687081e34abb7c3e44a1d37b2d02ca31b97daf7131f0cc2ce8     2240\n",
      "7556b904d2033b7ef193294c2223f4c162c9e6337fc1a37cb5a926c605ab639e     2058\n",
      "5cd7368176e519fd5ccff4d61db909e869586b350e02f9ca13ff19de8e75c548     1771\n",
      "654cc2e01783fa726c8b5743841202e3f95ae18fb4697f2a56f47cbe3d736434     1583\n",
      "2170256e37ed495d1b4beceb046f9882b7d3628336fc04b9f6844822bc0f059a     1442\n",
      "b15acf3f3f9ac39f827a8f5e4559b8663be3b48b283dcd373a3dec87a1b3c902     1211\n",
      "28fa9368ededd016d5bd24b5d59fd461840dd1cc4fdaa8e62ed54bbdf51fa42e     1208\n",
      "591c0a0133cb5fcd00af7bbf046f094256901239749fb779b3c5aba2cfa66af7      958\n",
      "588ad85b346966aa3c52a8c80b4da62b8d8e39e6f37f38eb8a3907cba122bbca      944\n",
      "6ff2a97bf9139cd1f16dfd60cb95f37b7a74901738f7e7154d439002ca56bdb1      829\n",
      "ee5949f8b5ff823b330c243762295ce7ede1a751f35b941253cb473ca63e7d53      817\n",
      "b4881844f3dc91fa8992ca5489c7a0e31f23f1d14744619fd0a71b2d6da79139      522\n",
      "b4fe46822b8133e110db34fc42f36dc17c825ee69cb7a300fe10119722f801db      467\n",
      "1a7f1b5c30851a16a7831c496ed9e3d33e013f3a6e56713a0dcfa57189cee037      436\n",
      "e664206bf198ba39ebbfebb28817083919e34e7ab81caeeea5d30b980b4f58b6      254\n",
      "89e386538bdee9222240ad020bad45bbdfc465ef98a269fb9a2e43f430737910      234\n",
      "c128764a760c53a40bf2f3595b8cc89f4f43a8ea977f9d3d872b9f665f0bae2e      190\n",
      "c6fb05363dbe1210b658f130faf72d57c364e2e98fb5eae38c97f7e0a8482d42      169\n",
      "b265454a0d9f1a95defdde88e744ba25914f11a13667e63e902cd6dcb197aa34      104\n",
      "aa34223f43ece8f311e87687550cc5cd8e90d0e08d8545f3e93da2c4dccbb581       95\n",
      "41e2c31b68bdc286a69459b7899e425343891c59d4ee0cee2d135881a9dc6302       85\n",
      "Name: Z_DEPARTAMENTO, dtype: int64\n",
      "The set with the columns that have different values:  set()\n",
      "\n",
      "##############################\n",
      "\n",
      "######  Z_PUNTO_VENTA  TRAIN INFO ####\n",
      "\n",
      "da45328ba820604eb99694768f2a430cd933d161601dcb8491b4a9b555232c59    248\n",
      "e1f2d2708f545ddc1d7266ba0cc5ccc88147b77fdf3450e68a974e93018ecf60    222\n",
      "fa11ef5fde36a7f4b7ee225f0fb5edee8c8ee4b9d20d14be433b42f1ecb178d1    195\n",
      "81e83159fd0d3eee49cfc38870a6dd670a2192076c2e52dcddadc4f1f6927799    194\n",
      "056401aa750b776c7601aaaa4fa5312196f1f34bc429c094763ffa46b6c2164c    193\n",
      "                                                                   ... \n",
      "10a00fd565720ec9cca9a7bbea76b7852bb1ae95ca661daf2a1ee9ed15980680      5\n",
      "467e7dbdb30d36788914ae936f3eb3798fa11ec5eb40776dfa6836cb388aee92      4\n",
      "02b8ca33a9495853c0aca0184f9abcf8403023c6ad432c80f95d65cf631f27f2      3\n",
      "96b556f78615fbc7476e199ffd4ff5764ea0805faf5087c945b7b3eeebc3bc71      3\n",
      "ebd97eb30c9c0b4414600b10b467a44a9e29e93f093159f6cbee2d9898b03f4e      1\n",
      "Name: Z_PUNTO_VENTA, Length: 486, dtype: int64\n",
      "######  Z_PUNTO_VENTA  TEST INFO ####\n",
      "\n",
      "da45328ba820604eb99694768f2a430cd933d161601dcb8491b4a9b555232c59    248\n",
      "e1f2d2708f545ddc1d7266ba0cc5ccc88147b77fdf3450e68a974e93018ecf60    222\n",
      "fa11ef5fde36a7f4b7ee225f0fb5edee8c8ee4b9d20d14be433b42f1ecb178d1    195\n",
      "81e83159fd0d3eee49cfc38870a6dd670a2192076c2e52dcddadc4f1f6927799    194\n",
      "056401aa750b776c7601aaaa4fa5312196f1f34bc429c094763ffa46b6c2164c    193\n",
      "                                                                   ... \n",
      "10a00fd565720ec9cca9a7bbea76b7852bb1ae95ca661daf2a1ee9ed15980680      5\n",
      "467e7dbdb30d36788914ae936f3eb3798fa11ec5eb40776dfa6836cb388aee92      4\n",
      "02b8ca33a9495853c0aca0184f9abcf8403023c6ad432c80f95d65cf631f27f2      3\n",
      "96b556f78615fbc7476e199ffd4ff5764ea0805faf5087c945b7b3eeebc3bc71      3\n",
      "ebd97eb30c9c0b4414600b10b467a44a9e29e93f093159f6cbee2d9898b03f4e      1\n",
      "Name: Z_PUNTO_VENTA, Length: 486, dtype: int64\n",
      "The set with the columns that have different values:  set()\n",
      "\n",
      "##############################\n",
      "\n"
     ]
    },
    {
     "data": {
      "text/plain": [
       "[None, None, None, None, None]"
      ]
     },
     "execution_count": 12,
     "metadata": {},
     "output_type": "execute_result"
    }
   ],
   "source": [
    "### Realizamos una validación de valores para ver si hay misma igualdad en registros de cada columna entre ambos dataframes\n",
    "### Es decir si tengo 11,888 registros en el raw_train la marca 285075a02b2679248a6b4636c3328bd3097626607c3e43c0c5498258fbfa9f29 \n",
    "### entonces debo tener esa misma cantidad en el raw_test\n",
    "[utils_entel.columns_info(raw_train, raw_test, \\\n",
    "               column) for column in descriptive_columns]\n",
    "\n",
    "### Conclusion: Ambos dataframes raw_train y raw_test tienen los mismos ID para predecir"
   ]
  },
  {
   "cell_type": "markdown",
   "id": "840266e8",
   "metadata": {
    "tags": []
   },
   "source": [
    "# Preprocessing"
   ]
  },
  {
   "cell_type": "markdown",
   "id": "c9d9afd6",
   "metadata": {},
   "source": [
    "Realizamos feature engineering de manipulación de los datos, el objetivo es tener valores más simples ya que los valores anonimizados no nos ayuda a tener un entendimiento de la columna e incluso en visualización de datos nos permitiría esa facilidad."
   ]
  },
  {
   "cell_type": "code",
   "execution_count": 13,
   "id": "2376d758",
   "metadata": {},
   "outputs": [],
   "source": [
    "### MAPEAR VALORES ANÓNIMOS EN MÁS SIMPLES ###\n",
    "'''\n",
    "Usamos la función mapping_encoded_columns del módulo utils_entel.py (revisar el file para entender lo que hace la función a detalle).\n",
    "El objetivo es tener valores más simple por las columnas descriptivas las cuales son la marca, modelo, etc.\n",
    "'''\n",
    "(raw_train, mapping_list) = utils_entel.mapping_encoded_columns(raw_train, descriptive_columns)\n",
    "raw_test = utils_entel.mapping_encoded_columns(raw_test, descriptive_columns, mapping_list)"
   ]
  },
  {
   "cell_type": "code",
   "execution_count": 14,
   "id": "979db351",
   "metadata": {},
   "outputs": [
    {
     "name": "stdout",
     "output_type": "stream",
     "text": [
      "######  Z_MARCA  TRAIN INFO ####\n",
      "\n",
      "MAR_1     11888\n",
      "MAR_2     10631\n",
      "MAR_3      5951\n",
      "MAR_4      5005\n",
      "MAR_5      2844\n",
      "MAR_6      2364\n",
      "MAR_7      1317\n",
      "MAR_8      1225\n",
      "MAR_9      1211\n",
      "MAR_10      936\n",
      "MAR_11      864\n",
      "MAR_12      724\n",
      "MAR_13      637\n",
      "MAR_14      608\n",
      "MAR_15      421\n",
      "MAR_16      356\n",
      "MAR_17      191\n",
      "Name: Z_MARCA, dtype: int64\n",
      "######  Z_MARCA  TEST INFO ####\n",
      "\n",
      "MAR_1     11888\n",
      "MAR_2     10631\n",
      "MAR_3      5951\n",
      "MAR_4      5005\n",
      "MAR_5      2844\n",
      "MAR_6      2364\n",
      "MAR_7      1317\n",
      "MAR_8      1225\n",
      "MAR_9      1211\n",
      "MAR_10      936\n",
      "MAR_11      864\n",
      "MAR_12      724\n",
      "MAR_13      637\n",
      "MAR_14      608\n",
      "MAR_15      421\n",
      "MAR_16      356\n",
      "MAR_17      191\n",
      "Name: Z_MARCA, dtype: int64\n",
      "The set with the columns that have different values:  set()\n",
      "\n",
      "##############################\n",
      "\n",
      "######  Z_GAMA  TRAIN INFO ####\n",
      "\n",
      "GAM_1    20785\n",
      "GAM_2    12249\n",
      "GAM_3     5576\n",
      "GAM_4     4453\n",
      "GAM_5     3719\n",
      "GAM_6      390\n",
      "GAM_7        1\n",
      "Name: Z_GAMA, dtype: int64\n",
      "######  Z_GAMA  TEST INFO ####\n",
      "\n",
      "GAM_1    20785\n",
      "GAM_2    12249\n",
      "GAM_3     5576\n",
      "GAM_4     4453\n",
      "GAM_5     3719\n",
      "GAM_6      390\n",
      "GAM_7        1\n",
      "Name: Z_GAMA, dtype: int64\n",
      "The set with the columns that have different values:  set()\n",
      "\n",
      "##############################\n",
      "\n",
      "######  Z_MODELO  TRAIN INFO ####\n",
      "\n",
      "MOD_1      481\n",
      "MOD_2      479\n",
      "MOD_3      479\n",
      "MOD_4      470\n",
      "MOD_5      470\n",
      "          ... \n",
      "MOD_314      1\n",
      "MOD_315      1\n",
      "MOD_316      1\n",
      "MOD_317      1\n",
      "MOD_318      1\n",
      "Name: Z_MODELO, Length: 318, dtype: int64\n",
      "######  Z_MODELO  TEST INFO ####\n",
      "\n",
      "MOD_1      481\n",
      "MOD_2      479\n",
      "MOD_3      479\n",
      "MOD_4      470\n",
      "MOD_5      470\n",
      "          ... \n",
      "MOD_314      1\n",
      "MOD_315      1\n",
      "MOD_316      1\n",
      "MOD_317      1\n",
      "MOD_318      1\n",
      "Name: Z_MODELO, Length: 318, dtype: int64\n",
      "The set with the columns that have different values:  set()\n",
      "\n",
      "##############################\n",
      "\n",
      "######  Z_DEPARTAMENTO  TRAIN INFO ####\n",
      "\n",
      "DEP_1     20475\n",
      "DEP_2      3091\n",
      "DEP_3      3046\n",
      "DEP_4      2944\n",
      "DEP_5      2240\n",
      "DEP_6      2058\n",
      "DEP_7      1771\n",
      "DEP_8      1583\n",
      "DEP_9      1442\n",
      "DEP_10     1211\n",
      "DEP_11     1208\n",
      "DEP_12      958\n",
      "DEP_13      944\n",
      "DEP_14      829\n",
      "DEP_15      817\n",
      "DEP_16      522\n",
      "DEP_17      467\n",
      "DEP_18      436\n",
      "DEP_19      254\n",
      "DEP_20      234\n",
      "DEP_21      190\n",
      "DEP_22      169\n",
      "DEP_23      104\n",
      "DEP_24       95\n",
      "DEP_25       85\n",
      "Name: Z_DEPARTAMENTO, dtype: int64\n",
      "######  Z_DEPARTAMENTO  TEST INFO ####\n",
      "\n",
      "DEP_1     20475\n",
      "DEP_2      3091\n",
      "DEP_3      3046\n",
      "DEP_4      2944\n",
      "DEP_5      2240\n",
      "DEP_6      2058\n",
      "DEP_7      1771\n",
      "DEP_8      1583\n",
      "DEP_9      1442\n",
      "DEP_10     1211\n",
      "DEP_11     1208\n",
      "DEP_12      958\n",
      "DEP_13      944\n",
      "DEP_14      829\n",
      "DEP_15      817\n",
      "DEP_16      522\n",
      "DEP_17      467\n",
      "DEP_18      436\n",
      "DEP_19      254\n",
      "DEP_20      234\n",
      "DEP_21      190\n",
      "DEP_22      169\n",
      "DEP_23      104\n",
      "DEP_24       95\n",
      "DEP_25       85\n",
      "Name: Z_DEPARTAMENTO, dtype: int64\n",
      "The set with the columns that have different values:  set()\n",
      "\n",
      "##############################\n",
      "\n",
      "######  Z_PUNTO_VENTA  TRAIN INFO ####\n",
      "\n",
      "PVENT_1      248\n",
      "PVENT_2      222\n",
      "PVENT_3      195\n",
      "PVENT_4      194\n",
      "PVENT_5      193\n",
      "            ... \n",
      "PVENT_482      5\n",
      "PVENT_483      4\n",
      "PVENT_484      3\n",
      "PVENT_485      3\n",
      "PVENT_486      1\n",
      "Name: Z_PUNTO_VENTA, Length: 486, dtype: int64\n",
      "######  Z_PUNTO_VENTA  TEST INFO ####\n",
      "\n",
      "PVENT_1      248\n",
      "PVENT_2      222\n",
      "PVENT_3      195\n",
      "PVENT_4      194\n",
      "PVENT_5      193\n",
      "            ... \n",
      "PVENT_482      5\n",
      "PVENT_483      4\n",
      "PVENT_484      3\n",
      "PVENT_485      3\n",
      "PVENT_486      1\n",
      "Name: Z_PUNTO_VENTA, Length: 486, dtype: int64\n",
      "The set with the columns that have different values:  set()\n",
      "\n",
      "##############################\n",
      "\n"
     ]
    },
    {
     "data": {
      "text/plain": [
       "[None, None, None, None, None]"
      ]
     },
     "execution_count": 14,
     "metadata": {},
     "output_type": "execute_result"
    }
   ],
   "source": [
    "### Realizamos una validación de valores para ver si hay misma igualdad en registros de cada columna entre ambos dataframes\n",
    "### Es decir si tengo 11,888 registros en el raw_train la marca MAR_1      \n",
    "### entonces debo tener esa misma cantidad en el raw_test\n",
    "[ utils_entel.columns_info(raw_train, raw_test, \\\n",
    "               column) for column in descriptive_columns]\n",
    "### Conclusion: Diferencia en validación es un conjunto vacío set(). Por lo que contiene los misma cantidad de valores que el original, transformación exitosa.###"
   ]
  },
  {
   "cell_type": "markdown",
   "id": "b37cc48a",
   "metadata": {},
   "source": [
    "Debido a que las semanas de la demanda del raw_train y del raw_test está en formato columnar. Se realizará una aplicación del método MELT de pandas que nos permite tener esas semanas y sus valores como 1 sola columna. Esto logrará que tengamos 2 MM de registros en el raw_train\n",
    "\n",
    "<img src='../Resources/Melt_Pandas.png'></img>"
   ]
  },
  {
   "cell_type": "code",
   "execution_count": 15,
   "id": "637210a5",
   "metadata": {},
   "outputs": [],
   "source": [
    "### MELT TABLE ###\n",
    "'''\n",
    "Se realiza la operación de mel con respecto a las semanas para tenerlas en 1 sola columna sus valores.\n",
    "'''\n",
    "week_cols_train = sorted(list(set(raw_train.columns)-set(descriptive_columns)))\n",
    "week_cols_test = sorted(list(set(raw_test.columns)-set(descriptive_columns)))\n",
    "\n",
    "train = pd.melt(raw_train, \n",
    "                    id_vars=descriptive_columns,\n",
    "                    value_vars=week_cols_train,\n",
    "                    var_name='Z_WEEK',\n",
    "                    value_name='Demanda')\n",
    "\n",
    "test = pd.melt(raw_test, \n",
    "                    id_vars=descriptive_columns,\n",
    "                    value_vars=week_cols_test,\n",
    "                    var_name='Z_WEEK',\n",
    "                    value_name='Demanda')\n",
    "\n",
    "test['Demanda'] = np.nan ### Reemplazar los valores 99 con nan. Buena práctica para no confundirnos después."
   ]
  },
  {
   "cell_type": "markdown",
   "id": "e803a7cf",
   "metadata": {},
   "source": [
    "Al mismo tiempo hay una información super importante en la descripción del reto, y es que las semanas vienen anonimizadas como SEMANA_01, etc.\n",
    "Sin embargo, también se nos comenta que la SEMANA_01 es del 2021-05-17 hasta el 2021-05-23. Por lo que para efectos del modelado, transforaremos la semana\n",
    "a su valor original."
   ]
  },
  {
   "cell_type": "code",
   "execution_count": 16,
   "id": "18bc2adc",
   "metadata": {},
   "outputs": [],
   "source": [
    "### Creamos la columna Z_WEEK_DATE que tiene el primer día de la semana en formato fecha real para el raw_train\n",
    "### Para entender la función detalladamente leer el módulo utils_entel.py\n",
    "train = utils_entel.week_mapping(train, 'Z_WEEK', datetime.date(2021, 5, 17))\n",
    "\n",
    "### Creamos la columna Z_WEEK_DATE que tiene el primer día de la semana en formato fecha real para el raw_test\n",
    "### Para entender la función detalladamente leer el módulo utils_entel.py\n",
    "test = utils_entel.week_mapping(test, 'Z_WEEK', datetime.date(2022, 5, 2)) "
   ]
  },
  {
   "cell_type": "code",
   "execution_count": 17,
   "id": "f93042e7",
   "metadata": {},
   "outputs": [
    {
     "data": {
      "text/html": [
       "<div>\n",
       "<style scoped>\n",
       "    .dataframe tbody tr th:only-of-type {\n",
       "        vertical-align: middle;\n",
       "    }\n",
       "\n",
       "    .dataframe tbody tr th {\n",
       "        vertical-align: top;\n",
       "    }\n",
       "\n",
       "    .dataframe thead th {\n",
       "        text-align: right;\n",
       "    }\n",
       "</style>\n",
       "<table border=\"1\" class=\"dataframe\">\n",
       "  <thead>\n",
       "    <tr style=\"text-align: right;\">\n",
       "      <th></th>\n",
       "      <th>Z_MARCA</th>\n",
       "      <th>Z_GAMA</th>\n",
       "      <th>Z_MODELO</th>\n",
       "      <th>Z_DEPARTAMENTO</th>\n",
       "      <th>Z_PUNTO_VENTA</th>\n",
       "      <th>Z_WEEK</th>\n",
       "      <th>Demanda</th>\n",
       "      <th>Z_WEEK_DATE</th>\n",
       "    </tr>\n",
       "  </thead>\n",
       "  <tbody>\n",
       "    <tr>\n",
       "      <th>0</th>\n",
       "      <td>MAR_5</td>\n",
       "      <td>GAM_3</td>\n",
       "      <td>MOD_318</td>\n",
       "      <td>DEP_12</td>\n",
       "      <td>PVENT_26</td>\n",
       "      <td>SEMANA_01</td>\n",
       "      <td>0</td>\n",
       "      <td>2021-05-17</td>\n",
       "    </tr>\n",
       "    <tr>\n",
       "      <th>1</th>\n",
       "      <td>MAR_3</td>\n",
       "      <td>GAM_1</td>\n",
       "      <td>MOD_305</td>\n",
       "      <td>DEP_1</td>\n",
       "      <td>PVENT_212</td>\n",
       "      <td>SEMANA_01</td>\n",
       "      <td>0</td>\n",
       "      <td>2021-05-17</td>\n",
       "    </tr>\n",
       "    <tr>\n",
       "      <th>2</th>\n",
       "      <td>MAR_5</td>\n",
       "      <td>GAM_3</td>\n",
       "      <td>MOD_246</td>\n",
       "      <td>DEP_1</td>\n",
       "      <td>PVENT_169</td>\n",
       "      <td>SEMANA_01</td>\n",
       "      <td>1</td>\n",
       "      <td>2021-05-17</td>\n",
       "    </tr>\n",
       "    <tr>\n",
       "      <th>3</th>\n",
       "      <td>MAR_1</td>\n",
       "      <td>GAM_4</td>\n",
       "      <td>MOD_286</td>\n",
       "      <td>DEP_1</td>\n",
       "      <td>PVENT_161</td>\n",
       "      <td>SEMANA_01</td>\n",
       "      <td>0</td>\n",
       "      <td>2021-05-17</td>\n",
       "    </tr>\n",
       "    <tr>\n",
       "      <th>4</th>\n",
       "      <td>MAR_6</td>\n",
       "      <td>GAM_4</td>\n",
       "      <td>MOD_282</td>\n",
       "      <td>DEP_1</td>\n",
       "      <td>PVENT_69</td>\n",
       "      <td>SEMANA_01</td>\n",
       "      <td>0</td>\n",
       "      <td>2021-05-17</td>\n",
       "    </tr>\n",
       "    <tr>\n",
       "      <th>5</th>\n",
       "      <td>MAR_1</td>\n",
       "      <td>GAM_1</td>\n",
       "      <td>MOD_291</td>\n",
       "      <td>DEP_1</td>\n",
       "      <td>PVENT_191</td>\n",
       "      <td>SEMANA_01</td>\n",
       "      <td>0</td>\n",
       "      <td>2021-05-17</td>\n",
       "    </tr>\n",
       "    <tr>\n",
       "      <th>6</th>\n",
       "      <td>MAR_14</td>\n",
       "      <td>GAM_5</td>\n",
       "      <td>MOD_97</td>\n",
       "      <td>DEP_16</td>\n",
       "      <td>PVENT_57</td>\n",
       "      <td>SEMANA_01</td>\n",
       "      <td>0</td>\n",
       "      <td>2021-05-17</td>\n",
       "    </tr>\n",
       "    <tr>\n",
       "      <th>7</th>\n",
       "      <td>MAR_14</td>\n",
       "      <td>GAM_5</td>\n",
       "      <td>MOD_97</td>\n",
       "      <td>DEP_13</td>\n",
       "      <td>PVENT_245</td>\n",
       "      <td>SEMANA_01</td>\n",
       "      <td>0</td>\n",
       "      <td>2021-05-17</td>\n",
       "    </tr>\n",
       "    <tr>\n",
       "      <th>8</th>\n",
       "      <td>MAR_14</td>\n",
       "      <td>GAM_5</td>\n",
       "      <td>MOD_97</td>\n",
       "      <td>DEP_10</td>\n",
       "      <td>PVENT_295</td>\n",
       "      <td>SEMANA_01</td>\n",
       "      <td>0</td>\n",
       "      <td>2021-05-17</td>\n",
       "    </tr>\n",
       "    <tr>\n",
       "      <th>9</th>\n",
       "      <td>MAR_14</td>\n",
       "      <td>GAM_5</td>\n",
       "      <td>MOD_97</td>\n",
       "      <td>DEP_13</td>\n",
       "      <td>PVENT_133</td>\n",
       "      <td>SEMANA_01</td>\n",
       "      <td>0</td>\n",
       "      <td>2021-05-17</td>\n",
       "    </tr>\n",
       "  </tbody>\n",
       "</table>\n",
       "</div>"
      ],
      "text/plain": [
       "  Z_MARCA Z_GAMA Z_MODELO Z_DEPARTAMENTO Z_PUNTO_VENTA     Z_WEEK  Demanda  \\\n",
       "0   MAR_5  GAM_3  MOD_318         DEP_12      PVENT_26  SEMANA_01        0   \n",
       "1   MAR_3  GAM_1  MOD_305          DEP_1     PVENT_212  SEMANA_01        0   \n",
       "2   MAR_5  GAM_3  MOD_246          DEP_1     PVENT_169  SEMANA_01        1   \n",
       "3   MAR_1  GAM_4  MOD_286          DEP_1     PVENT_161  SEMANA_01        0   \n",
       "4   MAR_6  GAM_4  MOD_282          DEP_1      PVENT_69  SEMANA_01        0   \n",
       "5   MAR_1  GAM_1  MOD_291          DEP_1     PVENT_191  SEMANA_01        0   \n",
       "6  MAR_14  GAM_5   MOD_97         DEP_16      PVENT_57  SEMANA_01        0   \n",
       "7  MAR_14  GAM_5   MOD_97         DEP_13     PVENT_245  SEMANA_01        0   \n",
       "8  MAR_14  GAM_5   MOD_97         DEP_10     PVENT_295  SEMANA_01        0   \n",
       "9  MAR_14  GAM_5   MOD_97         DEP_13     PVENT_133  SEMANA_01        0   \n",
       "\n",
       "  Z_WEEK_DATE  \n",
       "0  2021-05-17  \n",
       "1  2021-05-17  \n",
       "2  2021-05-17  \n",
       "3  2021-05-17  \n",
       "4  2021-05-17  \n",
       "5  2021-05-17  \n",
       "6  2021-05-17  \n",
       "7  2021-05-17  \n",
       "8  2021-05-17  \n",
       "9  2021-05-17  "
      ]
     },
     "execution_count": 17,
     "metadata": {},
     "output_type": "execute_result"
    }
   ],
   "source": [
    "train.head(10) # Este será el formato para nuestros entrenamientos de modelos de forecasting"
   ]
  },
  {
   "cell_type": "code",
   "execution_count": 18,
   "id": "ae85f69e",
   "metadata": {},
   "outputs": [],
   "source": [
    "### Extraemos el día, mes, y año para el forecasting y el EDA ###\n",
    "train['Z_DAY'] = train['Z_WEEK_DATE'].map(lambda x: x.day)\n",
    "train['Z_MONTH'] = train['Z_WEEK_DATE'].map(lambda x: x.month)\n",
    "train['Z_YEAR'] = train['Z_WEEK_DATE'].map(lambda x: x.year)\n",
    "\n",
    "test['Z_DAY'] = test['Z_WEEK_DATE'].map(lambda x: x.day)\n",
    "test['Z_MONTH'] = test['Z_WEEK_DATE'].map(lambda x: x.month)\n",
    "test['Z_YEAR'] = test['Z_WEEK_DATE'].map(lambda x: x.year)"
   ]
  },
  {
   "cell_type": "code",
   "execution_count": 19,
   "id": "332e38e1",
   "metadata": {},
   "outputs": [],
   "source": [
    "train.to_csv('..\\\\dataset\\\\train\\\\train_converted.csv', sep = ',', index = False) ### Guardamos el nuevo dataset de raw_train para propositos de modelo.\n",
    "test.to_csv('..\\\\dataset\\\\test\\\\test_converted.csv', sep = ',', index = False) ### Guardamos el nuevo dataset de raw_test para propositos de modelo."
   ]
  },
  {
   "cell_type": "code",
   "execution_count": 20,
   "id": "ca7bd64d",
   "metadata": {},
   "outputs": [],
   "source": [
    "### Revertimos el mapeo del diccionario mapping_list con la finalidad de regresar los valores originales anonimizados.\n",
    "### ORIGINAL ENCODED VALUES THE DESCRIPTIVE COLUMNS###\n",
    "reverse_mapping = [{v: k for k, v in dictionary.items()} for dictionary in mapping_list ]"
   ]
  },
  {
   "cell_type": "code",
   "execution_count": 21,
   "id": "fc6780b3",
   "metadata": {},
   "outputs": [],
   "source": [
    "reverse_mapping_file = '..\\\\utils\\\\reverse_dict_mapping_list.txt' ### Guardamos el diccionario en un archivo txt que usaremos para mandar los submissions a Kaggle."
   ]
  },
  {
   "cell_type": "code",
   "execution_count": 22,
   "id": "45a4cef6",
   "metadata": {},
   "outputs": [],
   "source": [
    "with open(reverse_mapping_file, 'wb') as f:\n",
    "    pickle.dump(reverse_mapping, f)"
   ]
  },
  {
   "cell_type": "code",
   "execution_count": 23,
   "id": "26828a39",
   "metadata": {},
   "outputs": [],
   "source": [
    "with open(reverse_mapping_file, 'rb') as f:\n",
    "    reverse_mapping_read = pickle.load( f)"
   ]
  },
  {
   "cell_type": "code",
   "execution_count": 24,
   "id": "80f64cf0",
   "metadata": {},
   "outputs": [],
   "source": [
    "assert reverse_mapping_read == reverse_mapping, 'ERROR, THEY ARE NOT THE SAME DICTIONARY' # Nos aseguramos que sean el mismo diccionario con el del archivo txt "
   ]
  }
 ],
 "metadata": {
  "kernelspec": {
   "display_name": "Python 3 (ipykernel)",
   "language": "python",
   "name": "python3"
  },
  "language_info": {
   "codemirror_mode": {
    "name": "ipython",
    "version": 3
   },
   "file_extension": ".py",
   "mimetype": "text/x-python",
   "name": "python",
   "nbconvert_exporter": "python",
   "pygments_lexer": "ipython3",
   "version": "3.8.12"
  },
  "toc-showcode": false,
  "toc-showmarkdowntxt": false
 },
 "nbformat": 4,
 "nbformat_minor": 5
}
