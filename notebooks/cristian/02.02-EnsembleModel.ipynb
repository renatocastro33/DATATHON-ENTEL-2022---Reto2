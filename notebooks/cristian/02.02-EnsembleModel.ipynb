{
 "cells": [
  {
   "cell_type": "code",
   "execution_count": 2,
   "id": "750ede97",
   "metadata": {},
   "outputs": [],
   "source": [
    "import sys\n",
    "sys.path.insert(1, '../../Src')\n",
    "from utils.preprocessing import *\n",
    "import training\n",
    "\n",
    "import numpy as np\n",
    "import pandas as pd\n",
    "import os\n",
    "\n",
    "import glob\n",
    "from math import ceil\n",
    "from sklearn.metrics import mean_squared_error\n",
    "\n",
    "\n",
    "warnings.filterwarnings('ignore')\n",
    "\n",
    "PATH_DATASET = '../../dataset/'\n",
    "PATH_RESULTS = '../../results/Demanda/'\n",
    "\n",
    "\n",
    "FILL = False\n",
    "TARGET = 'Demanda'\n",
    "\n",
    "\n",
    "N_FOLDS = 3\n",
    "N_FEATURE_IMPORTANCE = 15\n",
    "\n",
    "plt.rcParams['axes.facecolor']='white'\n",
    "plt.rcParams['savefig.facecolor']='white'\n",
    "SEED = 42\n",
    "seed_everything(SEED)\n",
    "training.PATH_RESULTS = PATH_RESULTS\n",
    "training.submission_analysis.TARGET  = TARGET\n",
    "\n",
    "%load_ext autoreload\n",
    "%autoreload 2"
   ]
  },
  {
   "cell_type": "code",
   "execution_count": 3,
   "id": "1ae1ec0d",
   "metadata": {},
   "outputs": [
    {
     "name": "stdout",
     "output_type": "stream",
     "text": [
      "reading ..  ../../results/Submission_73.csv\n"
     ]
    }
   ],
   "source": [
    "submission_top_reference = 'Submission_73.csv'\n",
    "print('reading .. ',os.path.join('../../results/',submission_top_reference))\n",
    "result = pd.read_csv(os.path.join('../../results/',submission_top_reference))"
   ]
  },
  {
   "cell_type": "code",
   "execution_count": 4,
   "id": "e37783da",
   "metadata": {},
   "outputs": [
    {
     "data": {
      "text/html": [
       "<div>\n",
       "<style scoped>\n",
       "    .dataframe tbody tr th:only-of-type {\n",
       "        vertical-align: middle;\n",
       "    }\n",
       "\n",
       "    .dataframe tbody tr th {\n",
       "        vertical-align: top;\n",
       "    }\n",
       "\n",
       "    .dataframe thead th {\n",
       "        text-align: right;\n",
       "    }\n",
       "</style>\n",
       "<table border=\"1\" class=\"dataframe\">\n",
       "  <thead>\n",
       "    <tr style=\"text-align: right;\">\n",
       "      <th></th>\n",
       "      <th>ID</th>\n",
       "      <th>Demanda</th>\n",
       "    </tr>\n",
       "  </thead>\n",
       "  <tbody>\n",
       "    <tr>\n",
       "      <th>0</th>\n",
       "      <td>009e0874cc07b2180b2b2b1039321041a1f42e66693c49...</td>\n",
       "      <td>0.0</td>\n",
       "    </tr>\n",
       "    <tr>\n",
       "      <th>1</th>\n",
       "      <td>009e0874cc07b2180b2b2b1039321041a1f42e66693c49...</td>\n",
       "      <td>0.0</td>\n",
       "    </tr>\n",
       "    <tr>\n",
       "      <th>2</th>\n",
       "      <td>009e0874cc07b2180b2b2b1039321041a1f42e66693c49...</td>\n",
       "      <td>0.0</td>\n",
       "    </tr>\n",
       "    <tr>\n",
       "      <th>3</th>\n",
       "      <td>009e0874cc07b2180b2b2b1039321041a1f42e66693c49...</td>\n",
       "      <td>0.0</td>\n",
       "    </tr>\n",
       "    <tr>\n",
       "      <th>4</th>\n",
       "      <td>009e0874cc07b2180b2b2b1039321041a1f42e66693c49...</td>\n",
       "      <td>0.0</td>\n",
       "    </tr>\n",
       "  </tbody>\n",
       "</table>\n",
       "</div>"
      ],
      "text/plain": [
       "                                                  ID  Demanda\n",
       "0  009e0874cc07b2180b2b2b1039321041a1f42e66693c49...      0.0\n",
       "1  009e0874cc07b2180b2b2b1039321041a1f42e66693c49...      0.0\n",
       "2  009e0874cc07b2180b2b2b1039321041a1f42e66693c49...      0.0\n",
       "3  009e0874cc07b2180b2b2b1039321041a1f42e66693c49...      0.0\n",
       "4  009e0874cc07b2180b2b2b1039321041a1f42e66693c49...      0.0"
      ]
     },
     "execution_count": 4,
     "metadata": {},
     "output_type": "execute_result"
    }
   ],
   "source": [
    "result.head()"
   ]
  },
  {
   "cell_type": "code",
   "execution_count": 6,
   "id": "c1335e8c",
   "metadata": {},
   "outputs": [],
   "source": [
    "descriptive_columns = ['Z_MODELO','Z_PUNTO_VENTA','Z_GAMA','Z_WEEK']\n",
    "reverse_mapping_file = '../../utils/reverse_dict_mapping_list.txt'\n",
    "\n",
    "result[['Z_MODELO','Z_PUNTO_VENTA','Z_GAMA','Z_WEEK']] = result['ID'].str.split('|',expand=True)\n",
    "\n",
    "with open(reverse_mapping_file, 'rb') as f:\n",
    "    reverse_mapping = pickle.load( f)\n",
    "    \n",
    "descriptive_columns = ['Z_MARCA', 'Z_GAMA', 'Z_MODELO',\n",
    "                       'Z_DEPARTAMENTO', 'Z_PUNTO_VENTA']\n",
    "i=0\n",
    "for column in descriptive_columns:\n",
    "    if column in ['Z_MODELO','Z_PUNTO_VENTA','Z_GAMA','Z_WEEK']:\n",
    "        inv_reverse_mapping = {v: k for k, v in reverse_mapping[i].items()}\n",
    "\n",
    "        result[column] = result[column].map(inv_reverse_mapping)\n",
    "    i+=1\n",
    "    \n",
    "result = result.rename(columns = {TARGET: TARGET+'_real'})"
   ]
  },
  {
   "cell_type": "code",
   "execution_count": 7,
   "id": "1935e8b4",
   "metadata": {},
   "outputs": [
    {
     "data": {
      "text/html": [
       "<div>\n",
       "<style scoped>\n",
       "    .dataframe tbody tr th:only-of-type {\n",
       "        vertical-align: middle;\n",
       "    }\n",
       "\n",
       "    .dataframe tbody tr th {\n",
       "        vertical-align: top;\n",
       "    }\n",
       "\n",
       "    .dataframe thead th {\n",
       "        text-align: right;\n",
       "    }\n",
       "</style>\n",
       "<table border=\"1\" class=\"dataframe\">\n",
       "  <thead>\n",
       "    <tr style=\"text-align: right;\">\n",
       "      <th></th>\n",
       "      <th>ID</th>\n",
       "      <th>Demanda_real</th>\n",
       "      <th>Z_MODELO</th>\n",
       "      <th>Z_PUNTO_VENTA</th>\n",
       "      <th>Z_GAMA</th>\n",
       "      <th>Z_WEEK</th>\n",
       "    </tr>\n",
       "  </thead>\n",
       "  <tbody>\n",
       "    <tr>\n",
       "      <th>0</th>\n",
       "      <td>009e0874cc07b2180b2b2b1039321041a1f42e66693c49...</td>\n",
       "      <td>0.0</td>\n",
       "      <td>MOD_170</td>\n",
       "      <td>PVENT_259</td>\n",
       "      <td>GAM_2</td>\n",
       "      <td>SEMANA_51</td>\n",
       "    </tr>\n",
       "    <tr>\n",
       "      <th>1</th>\n",
       "      <td>009e0874cc07b2180b2b2b1039321041a1f42e66693c49...</td>\n",
       "      <td>0.0</td>\n",
       "      <td>MOD_170</td>\n",
       "      <td>PVENT_259</td>\n",
       "      <td>GAM_2</td>\n",
       "      <td>SEMANA_52</td>\n",
       "    </tr>\n",
       "    <tr>\n",
       "      <th>2</th>\n",
       "      <td>009e0874cc07b2180b2b2b1039321041a1f42e66693c49...</td>\n",
       "      <td>0.0</td>\n",
       "      <td>MOD_170</td>\n",
       "      <td>PVENT_259</td>\n",
       "      <td>GAM_2</td>\n",
       "      <td>SEMANA_53</td>\n",
       "    </tr>\n",
       "    <tr>\n",
       "      <th>3</th>\n",
       "      <td>009e0874cc07b2180b2b2b1039321041a1f42e66693c49...</td>\n",
       "      <td>0.0</td>\n",
       "      <td>MOD_170</td>\n",
       "      <td>PVENT_259</td>\n",
       "      <td>GAM_2</td>\n",
       "      <td>SEMANA_54</td>\n",
       "    </tr>\n",
       "    <tr>\n",
       "      <th>4</th>\n",
       "      <td>009e0874cc07b2180b2b2b1039321041a1f42e66693c49...</td>\n",
       "      <td>0.0</td>\n",
       "      <td>MOD_170</td>\n",
       "      <td>PVENT_259</td>\n",
       "      <td>GAM_2</td>\n",
       "      <td>SEMANA_55</td>\n",
       "    </tr>\n",
       "  </tbody>\n",
       "</table>\n",
       "</div>"
      ],
      "text/plain": [
       "                                                  ID  Demanda_real Z_MODELO  \\\n",
       "0  009e0874cc07b2180b2b2b1039321041a1f42e66693c49...           0.0  MOD_170   \n",
       "1  009e0874cc07b2180b2b2b1039321041a1f42e66693c49...           0.0  MOD_170   \n",
       "2  009e0874cc07b2180b2b2b1039321041a1f42e66693c49...           0.0  MOD_170   \n",
       "3  009e0874cc07b2180b2b2b1039321041a1f42e66693c49...           0.0  MOD_170   \n",
       "4  009e0874cc07b2180b2b2b1039321041a1f42e66693c49...           0.0  MOD_170   \n",
       "\n",
       "  Z_PUNTO_VENTA Z_GAMA     Z_WEEK  \n",
       "0     PVENT_259  GAM_2  SEMANA_51  \n",
       "1     PVENT_259  GAM_2  SEMANA_52  \n",
       "2     PVENT_259  GAM_2  SEMANA_53  \n",
       "3     PVENT_259  GAM_2  SEMANA_54  \n",
       "4     PVENT_259  GAM_2  SEMANA_55  "
      ]
     },
     "execution_count": 7,
     "metadata": {},
     "output_type": "execute_result"
    }
   ],
   "source": [
    "result.head()"
   ]
  },
  {
   "cell_type": "code",
   "execution_count": 8,
   "id": "bc3a5e49",
   "metadata": {},
   "outputs": [
    {
     "name": "stdout",
     "output_type": "stream",
     "text": [
      "reading .. ../../results/Demanda/xgboost/c_model_v3/shift_1/rmse_cv_train_2.6648_rmse_cv_test_2.2759_submission.csv\n",
      "reading .. ../../results/Demanda/xgboost/c_model_v2/shift_1/rmse_cv_train_2.5863_rmse_cv_test_2.161_submission.csv\n",
      "reading .. ../../results/Demanda/xgboost/c_model_v3/shift_2/rmse_cv_train_3.0301_rmse_cv_test_2.6724_submission.csv\n",
      "reading .. ../../results/Demanda/xgboost/c_model_v2/shift_2/rmse_cv_train_2.9967_rmse_cv_test_2.5806_submission.csv\n",
      "TOTAL_FILES =  4\n"
     ]
    }
   ],
   "source": [
    "result['Demanda_pred'] = 0\n",
    "\n",
    "WEEKS_LIST = {}\n",
    "\n",
    "TOTAL_FILES = 0\n",
    "for week in range(1,3):\n",
    "    for idx,model_type in enumerate(['xgboost']):\n",
    "        for model in ['c_model_v3','c_model_v2']:\n",
    "            path_folder = os.path.join(PATH_RESULTS,model_type,model,'shift_'+str(week))\n",
    "            list_filename_csv = glob.glob(os.path.join(path_folder,\"*_submission.csv\"))\n",
    "            if len(list_filename_csv)>0:\n",
    "                score = float(list_filename_csv[0].split('rmse_cv_test_')[-1].split('_')[0])\n",
    "                \n",
    "                if score>(2.15+week*50):#*0.15):\n",
    "                    break\n",
    "                print('reading ..',list_filename_csv[0])\n",
    "                TOTAL_FILES+=1\n",
    "                filename_csv = list_filename_csv[0]\n",
    "                pred = pd.read_csv(filename_csv).rename(columns={\"Demanda\":\"Demanda_pred\"}).reset_index(drop=True)\n",
    "                SEMANA = 'SEMANA_'+str(50+week)\n",
    "                \n",
    "                if SEMANA in WEEKS_LIST.keys():\n",
    "                    WEEKS_LIST[SEMANA]+=1.0\n",
    "                else:\n",
    "                    WEEKS_LIST[SEMANA]=1.0\n",
    "                \n",
    "                sub_group = result[[\"Z_MODELO\",\"Z_PUNTO_VENTA\",\"Z_GAMA\",\"Z_WEEK\"]][result['Z_WEEK']==SEMANA].merge(\n",
    "                    pred[[\"Z_MODELO\",\"Z_PUNTO_VENTA\",\"Z_GAMA\",\"Z_WEEK\",\"Demanda_pred\"]],how='left').reset_index(drop=True)\n",
    "                \n",
    "                result['Demanda_pred'][result['Z_WEEK']==SEMANA] += sub_group['Demanda_pred'].values\n",
    "print('TOTAL_FILES = ',TOTAL_FILES)"
   ]
  },
  {
   "cell_type": "code",
   "execution_count": 9,
   "id": "3784708c",
   "metadata": {},
   "outputs": [],
   "source": [
    "for SEMANA in WEEKS_LIST:\n",
    "    result['Demanda_pred'][result['Z_WEEK']==SEMANA] /= WEEKS_LIST[SEMANA]"
   ]
  },
  {
   "cell_type": "code",
   "execution_count": 10,
   "id": "23ed0708",
   "metadata": {},
   "outputs": [
    {
     "data": {
      "text/plain": [
       "'SEMANA_52'"
      ]
     },
     "execution_count": 10,
     "metadata": {},
     "output_type": "execute_result"
    }
   ],
   "source": [
    "SEMANA"
   ]
  },
  {
   "cell_type": "code",
   "execution_count": 11,
   "id": "b2e8b791",
   "metadata": {},
   "outputs": [
    {
     "data": {
      "text/html": [
       "<div>\n",
       "<style scoped>\n",
       "    .dataframe tbody tr th:only-of-type {\n",
       "        vertical-align: middle;\n",
       "    }\n",
       "\n",
       "    .dataframe tbody tr th {\n",
       "        vertical-align: top;\n",
       "    }\n",
       "\n",
       "    .dataframe thead th {\n",
       "        text-align: right;\n",
       "    }\n",
       "</style>\n",
       "<table border=\"1\" class=\"dataframe\">\n",
       "  <thead>\n",
       "    <tr style=\"text-align: right;\">\n",
       "      <th></th>\n",
       "      <th>ID</th>\n",
       "      <th>Demanda_real</th>\n",
       "      <th>Z_MODELO</th>\n",
       "      <th>Z_PUNTO_VENTA</th>\n",
       "      <th>Z_GAMA</th>\n",
       "      <th>Z_WEEK</th>\n",
       "      <th>Demanda_pred</th>\n",
       "    </tr>\n",
       "  </thead>\n",
       "  <tbody>\n",
       "    <tr>\n",
       "      <th>0</th>\n",
       "      <td>009e0874cc07b2180b2b2b1039321041a1f42e66693c49...</td>\n",
       "      <td>0.0</td>\n",
       "      <td>MOD_170</td>\n",
       "      <td>PVENT_259</td>\n",
       "      <td>GAM_2</td>\n",
       "      <td>SEMANA_51</td>\n",
       "      <td>0.010752</td>\n",
       "    </tr>\n",
       "    <tr>\n",
       "      <th>1</th>\n",
       "      <td>009e0874cc07b2180b2b2b1039321041a1f42e66693c49...</td>\n",
       "      <td>0.0</td>\n",
       "      <td>MOD_170</td>\n",
       "      <td>PVENT_259</td>\n",
       "      <td>GAM_2</td>\n",
       "      <td>SEMANA_52</td>\n",
       "      <td>0.015741</td>\n",
       "    </tr>\n",
       "    <tr>\n",
       "      <th>2</th>\n",
       "      <td>009e0874cc07b2180b2b2b1039321041a1f42e66693c49...</td>\n",
       "      <td>0.0</td>\n",
       "      <td>MOD_170</td>\n",
       "      <td>PVENT_259</td>\n",
       "      <td>GAM_2</td>\n",
       "      <td>SEMANA_53</td>\n",
       "      <td>0.000000</td>\n",
       "    </tr>\n",
       "    <tr>\n",
       "      <th>3</th>\n",
       "      <td>009e0874cc07b2180b2b2b1039321041a1f42e66693c49...</td>\n",
       "      <td>0.0</td>\n",
       "      <td>MOD_170</td>\n",
       "      <td>PVENT_259</td>\n",
       "      <td>GAM_2</td>\n",
       "      <td>SEMANA_54</td>\n",
       "      <td>0.000000</td>\n",
       "    </tr>\n",
       "    <tr>\n",
       "      <th>4</th>\n",
       "      <td>009e0874cc07b2180b2b2b1039321041a1f42e66693c49...</td>\n",
       "      <td>0.0</td>\n",
       "      <td>MOD_170</td>\n",
       "      <td>PVENT_259</td>\n",
       "      <td>GAM_2</td>\n",
       "      <td>SEMANA_55</td>\n",
       "      <td>0.000000</td>\n",
       "    </tr>\n",
       "  </tbody>\n",
       "</table>\n",
       "</div>"
      ],
      "text/plain": [
       "                                                  ID  Demanda_real Z_MODELO  \\\n",
       "0  009e0874cc07b2180b2b2b1039321041a1f42e66693c49...           0.0  MOD_170   \n",
       "1  009e0874cc07b2180b2b2b1039321041a1f42e66693c49...           0.0  MOD_170   \n",
       "2  009e0874cc07b2180b2b2b1039321041a1f42e66693c49...           0.0  MOD_170   \n",
       "3  009e0874cc07b2180b2b2b1039321041a1f42e66693c49...           0.0  MOD_170   \n",
       "4  009e0874cc07b2180b2b2b1039321041a1f42e66693c49...           0.0  MOD_170   \n",
       "\n",
       "  Z_PUNTO_VENTA Z_GAMA     Z_WEEK  Demanda_pred  \n",
       "0     PVENT_259  GAM_2  SEMANA_51      0.010752  \n",
       "1     PVENT_259  GAM_2  SEMANA_52      0.015741  \n",
       "2     PVENT_259  GAM_2  SEMANA_53      0.000000  \n",
       "3     PVENT_259  GAM_2  SEMANA_54      0.000000  \n",
       "4     PVENT_259  GAM_2  SEMANA_55      0.000000  "
      ]
     },
     "execution_count": 11,
     "metadata": {},
     "output_type": "execute_result"
    }
   ],
   "source": [
    "result.head()"
   ]
  },
  {
   "cell_type": "code",
   "execution_count": 12,
   "id": "2559245d",
   "metadata": {},
   "outputs": [],
   "source": [
    "result['Demanda_pred'][~result['Z_WEEK'].isin(WEEKS_LIST.keys())]  = result['Demanda_real'][~result['Z_WEEK'].isin(WEEKS_LIST.keys())] "
   ]
  },
  {
   "cell_type": "code",
   "execution_count": 13,
   "id": "509b271f",
   "metadata": {},
   "outputs": [],
   "source": [
    "result['Demanda_pred'][result['Z_WEEK']=='SEMANA_52']  = 0.2*result['Demanda_pred'][result['Z_WEEK']=='SEMANA_52'] + 0.8*result['Demanda_real'][result['Z_WEEK']=='SEMANA_52']"
   ]
  },
  {
   "cell_type": "code",
   "execution_count": 17,
   "id": "aa1ba4ba",
   "metadata": {},
   "outputs": [
    {
     "name": "stdout",
     "output_type": "stream",
     "text": [
      "saving submission .. ../../results/Demanda/submissions/submission_weeks2_repz12_0.2_pred_0.8_real_rmse_kaggle_0.412.csv\n",
      "Final score referencial mean_squared_error\n",
      "RMSE Score referencial TARGET: 0.411640722476265\n",
      "saving ..\n",
      "saved ! \n"
     ]
    }
   ],
   "source": [
    "rmse_target = mean_squared_error(result[TARGET+'_pred'],result[TARGET+'_real'], squared=False)\n",
    "\n",
    "submissions_path = os.path.join(PATH_RESULTS,'submissions','submission_weeks2_repz12_0.2_pred_0.8_real_rmse_kaggle_'+str(np.round(rmse_target,3))+'.csv')\n",
    "print('saving submission ..',submissions_path)\n",
    "\n",
    "print('Final score referencial mean_squared_error')\n",
    "print('RMSE Score referencial TARGET:',rmse_target)\n",
    "\n",
    "if True:\n",
    "    print('saving ..')\n",
    "    result[['ID','Demanda_pred']].rename(columns={\"Demanda_pred\":\"Demanda\"}).to_csv(submissions_path,index=None)\n",
    "    print('saved ! ')"
   ]
  },
  {
   "cell_type": "code",
   "execution_count": 18,
   "id": "a703a6a7",
   "metadata": {},
   "outputs": [],
   "source": [
    "# 0.411640722476265"
   ]
  },
  {
   "cell_type": "code",
   "execution_count": null,
   "id": "06d2e7ea",
   "metadata": {},
   "outputs": [],
   "source": []
  },
  {
   "cell_type": "code",
   "execution_count": null,
   "id": "12943a2c-0449-4bb2-9f94-2e02ba997708",
   "metadata": {},
   "outputs": [],
   "source": []
  }
 ],
 "metadata": {
  "kernelspec": {
   "display_name": "Python 3",
   "language": "python",
   "name": "python3"
  },
  "language_info": {
   "codemirror_mode": {
    "name": "ipython",
    "version": 3
   },
   "file_extension": ".py",
   "mimetype": "text/x-python",
   "name": "python",
   "nbconvert_exporter": "python",
   "pygments_lexer": "ipython3",
   "version": "3.8.13"
  }
 },
 "nbformat": 4,
 "nbformat_minor": 5
}
