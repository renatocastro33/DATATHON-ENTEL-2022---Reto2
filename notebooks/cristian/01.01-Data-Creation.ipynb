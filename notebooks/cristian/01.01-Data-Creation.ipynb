{
 "cells": [
  {
   "cell_type": "code",
   "execution_count": 16,
   "id": "bb63e887",
   "metadata": {
    "collapsed": false,
    "gradient": {
     "editing": false,
     "id": "d85eb24e-1c37-40cb-92b7-b9b1c3f3c4ad",
     "kernelId": "4b36f2bb-a103-476c-967f-0825f38bd3c1",
     "source_hidden": false
    },
    "jupyter": {
     "outputs_hidden": false
    }
   },
   "outputs": [],
   "source": [
    "import sys\n",
    "sys.path.insert(1, '../../Src')\n",
    "from utils.preprocessing import *\n",
    "\n",
    "import pandas as pd\n",
    "import os\n",
    "PATH_DATASET = '../../dataset/'\n",
    "PATH_RESULTS = '../../results/Demanda/dataset/'\n",
    "\n",
    "pd.set_option('display.max_rows', 50)"
   ]
  },
  {
   "cell_type": "code",
   "execution_count": 9,
   "id": "f112bf90",
   "metadata": {
    "collapsed": false,
    "gradient": {
     "editing": false,
     "id": "062c1697-593e-4fac-b57d-93db08d323f8",
     "kernelId": "4b36f2bb-a103-476c-967f-0825f38bd3c1",
     "source_hidden": false
    },
    "jupyter": {
     "outputs_hidden": false
    }
   },
   "outputs": [],
   "source": [
    "df_train_original = pd.read_csv(os.path.join(PATH_DATASET,'train/train_converted.csv'))\n",
    "df_test_original = pd.read_csv(os.path.join(PATH_DATASET,'test/test_converted.csv'))\n",
    "\n",
    "df_train = df_train_original[['Z_MODELO','Z_PUNTO_VENTA','Z_GAMA','Z_WEEK','Z_WEEK_DATE','Demanda']].groupby(['Z_MODELO','Z_PUNTO_VENTA','Z_GAMA','Z_WEEK','Z_WEEK_DATE']).sum().reset_index()\n",
    "df_test = df_test_original[['Z_MODELO','Z_PUNTO_VENTA','Z_GAMA','Z_WEEK','Z_WEEK_DATE','Demanda']].groupby(['Z_MODELO','Z_PUNTO_VENTA','Z_GAMA','Z_WEEK','Z_WEEK_DATE']).sum().reset_index()\n",
    "df_train = df_train.merge(df_train_original[['Z_MODELO','Z_PUNTO_VENTA','Z_GAMA','Z_WEEK','Z_MARCA','Z_DEPARTAMENTO']],on=['Z_MODELO','Z_PUNTO_VENTA','Z_GAMA','Z_WEEK'],how='left')\n",
    "df_test  = df_test.merge(df_test_original[['Z_MODELO','Z_PUNTO_VENTA','Z_GAMA','Z_WEEK','Z_MARCA','Z_DEPARTAMENTO']],on=['Z_MODELO','Z_PUNTO_VENTA','Z_GAMA','Z_WEEK'],how='left')"
   ]
  },
  {
   "cell_type": "code",
   "execution_count": 10,
   "id": "ed6df54e",
   "metadata": {},
   "outputs": [],
   "source": [
    "df_train['Z_WEEK_DATE'] = pd.to_datetime(df_train['Z_WEEK_DATE'], errors='coerce')\n",
    "df_test['Z_WEEK_DATE'] = pd.to_datetime(df_test['Z_WEEK_DATE'], errors='coerce')"
   ]
  },
  {
   "cell_type": "code",
   "execution_count": 11,
   "id": "939f568a",
   "metadata": {},
   "outputs": [],
   "source": [
    "dates = (set(df_train['Z_WEEK'].unique()) | set(df_test['Z_WEEK'].unique()))#df_auxiliar['Z_WEEK'].unique()\n",
    "dates = sorted(dates)\n",
    "\n",
    "dict_dates = {}\n",
    "for idx,date in enumerate(dates):\n",
    "    dict_dates[date] =idx\n",
    "df_train['date_block_num'] = df_train['Z_WEEK'].map(dict_dates)\n",
    "df_test['date_block_num'] = df_test['Z_WEEK'].map(dict_dates)"
   ]
  },
  {
   "cell_type": "code",
   "execution_count": 12,
   "id": "6a4862a6",
   "metadata": {},
   "outputs": [],
   "source": [
    "df_test['Demanda'] = 0"
   ]
  },
  {
   "cell_type": "code",
   "execution_count": 13,
   "id": "d919bec7",
   "metadata": {},
   "outputs": [],
   "source": [
    "df_train[\"item_id\"] = df_train[\"Z_MODELO\"].astype(str) +\"|\"+ df_train[\"Z_PUNTO_VENTA\"].astype(str) +\"|\"+ df_train[\"Z_GAMA\"].astype(str) \n",
    "df_test[\"item_id\"]  = df_test[\"Z_MODELO\"].astype(str) +\"|\"+ df_test[\"Z_PUNTO_VENTA\"].astype(str) +\"|\"+ df_test[\"Z_GAMA\"].astype(str) "
   ]
  },
  {
   "cell_type": "code",
   "execution_count": 14,
   "id": "2df264e1",
   "metadata": {},
   "outputs": [],
   "source": [
    "df_train.fillna(-1, inplace=True)"
   ]
  },
  {
   "cell_type": "code",
   "execution_count": 17,
   "id": "e5709d00",
   "metadata": {
    "collapsed": false,
    "gradient": {
     "editing": false,
     "id": "caf12073-fcb3-4551-8aa1-74d132a21c01",
     "kernelId": "4b36f2bb-a103-476c-967f-0825f38bd3c1",
     "source_hidden": false
    },
    "jupyter": {
     "outputs_hidden": false
    }
   },
   "outputs": [
    {
     "name": "stdout",
     "output_type": "stream",
     "text": [
      "1.54 s ± 359 ms per loop (mean ± std. dev. of 7 runs, 1 loop each)\n"
     ]
    }
   ],
   "source": [
    "%timeit df_train.to_pickle(os.path.join(PATH_RESULTS,'df_train.pkl'))"
   ]
  },
  {
   "cell_type": "code",
   "execution_count": 18,
   "id": "a1525491",
   "metadata": {
    "collapsed": false,
    "gradient": {
     "editing": false,
     "id": "985b59d1-6749-4901-8135-f2b64cc13797",
     "kernelId": "4b36f2bb-a103-476c-967f-0825f38bd3c1",
     "source_hidden": false
    },
    "jupyter": {
     "outputs_hidden": false
    }
   },
   "outputs": [
    {
     "name": "stdout",
     "output_type": "stream",
     "text": [
      "245 ms ± 12.8 ms per loop (mean ± std. dev. of 7 runs, 1 loop each)\n"
     ]
    }
   ],
   "source": [
    "%timeit df_test.to_pickle(os.path.join(PATH_RESULTS,'df_test.pkl'))"
   ]
  },
  {
   "cell_type": "code",
   "execution_count": null,
   "id": "5b2716d7",
   "metadata": {
    "collapsed": false,
    "gradient": {
     "editing": false,
     "id": "f5a4ed0d-ffcf-49dc-8389-615b8b6caf69",
     "kernelId": "4b36f2bb-a103-476c-967f-0825f38bd3c1",
     "source_hidden": false
    },
    "jupyter": {
     "outputs_hidden": false
    }
   },
   "outputs": [],
   "source": []
  }
 ],
 "metadata": {
  "kernelspec": {
   "display_name": "Python 3",
   "language": "python",
   "name": "python3"
  },
  "language_info": {
   "codemirror_mode": {
    "name": "ipython",
    "version": 3
   },
   "file_extension": ".py",
   "mimetype": "text/x-python",
   "name": "python",
   "nbconvert_exporter": "python",
   "pygments_lexer": "ipython3",
   "version": "3.8.13"
  }
 },
 "nbformat": 4,
 "nbformat_minor": 5
}
