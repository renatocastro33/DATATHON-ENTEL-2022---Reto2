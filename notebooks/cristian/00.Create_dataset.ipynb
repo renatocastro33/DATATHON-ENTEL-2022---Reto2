{
 "cells": [
  {
   "cell_type": "code",
   "execution_count": null,
   "id": "e81a6d27",
   "metadata": {},
   "outputs": [],
   "source": [
    "import pandas as pd\n",
    "import numpy as np\n",
    "#from tqdm import tqdm_notebook as tqdm\n",
    "from tqdm import tqdm\n",
    "import time\n",
    "from time import sleep\n",
    "\n",
    "def get_distance_from_paydays(date):\n",
    "    end_of_month = date.daysinmonth\n",
    "    distance_to_1st = 0 if date.day >=15 else 15 - date.day\n",
    "    distance_to15th = 0 if date.day < 15 else end_of_month - date.day\n",
    "    return distance_to_1st + distance_to15th\n",
    "\n",
    "def std(x): return np.std(x)\n"
   ]
  },
  {
   "cell_type": "code",
   "execution_count": null,
   "id": "ef8d688f",
   "metadata": {},
   "outputs": [],
   "source": [
    "df_train = pd.read_csv('../../dataset/train/train_converted.csv')\n",
    "df_test  = pd.read_csv('../../dataset/test/test_converted.csv')\n"
   ]
  },
  {
   "cell_type": "code",
   "execution_count": null,
   "id": "55693e37",
   "metadata": {},
   "outputs": [],
   "source": [
    "df_train = df_train[['Z_MODELO','Z_PUNTO_VENTA','Z_GAMA','Z_WEEK','Z_WEEK_DATE','Demanda']].groupby(['Z_MODELO','Z_PUNTO_VENTA','Z_GAMA','Z_WEEK','Z_WEEK_DATE']).sum().reset_index()\n",
    "df_test = df_test[['Z_MODELO','Z_PUNTO_VENTA','Z_GAMA','Z_WEEK','Z_WEEK_DATE','Demanda']].groupby(['Z_MODELO','Z_PUNTO_VENTA','Z_GAMA','Z_WEEK','Z_WEEK_DATE']).sum().reset_index()\n",
    "df_train.replace(['',np.inf, -np.inf, np.nan],0,inplace=True)\n",
    "df_test.replace(['',np.inf, -np.inf, np.nan],0,inplace=True)\n",
    "\n",
    "dates_train_dict = pd.Series(df_train.Z_WEEK_DATE.values,index=df_train.Z_WEEK).to_dict()\n",
    "dates_test_dict  = pd.Series(df_test.Z_WEEK_DATE.values,index=df_test.Z_WEEK).to_dict()\n",
    "dates_total_dict = dict(dates_train_dict)\n",
    "dates_total_dict.update(dates_test_dict)\n",
    "\n",
    "list_uniques = []\n",
    "for name in ['Z_MODELO','Z_PUNTO_VENTA','Z_GAMA','Z_WEEK']:\n",
    "    train_uniques = set(df_train[name].unique())\n",
    "    test_uniques  = set(df_test[name].unique())\n",
    "    total_uniques = list(train_uniques|test_uniques)\n",
    "    print(name+' train cantidad :',len(train_uniques))\n",
    "    print(name+' test  cantidad :',len(test_uniques))\n",
    "    print(name+' total cantidad :',len(total_uniques))\n",
    "    \n",
    "    list_uniques.append(total_uniques)"
   ]
  },
  {
   "cell_type": "code",
   "execution_count": null,
   "id": "f3d8f7e4",
   "metadata": {},
   "outputs": [],
   "source": [
    "# importing product\n",
    "from itertools import product\n",
    "  \n",
    "# apply product method\n",
    "total_data = pd.DataFrame(list(product(list_uniques[0],list_uniques[1],list_uniques[2],list_uniques[3])))"
   ]
  },
  {
   "cell_type": "code",
   "execution_count": null,
   "id": "5045a754",
   "metadata": {},
   "outputs": [],
   "source": [
    "total_data.columns = ['Z_MODELO','Z_PUNTO_VENTA','Z_GAMA','Z_WEEK']\n",
    "total_data = total_data.sort_values(by=['Z_MODELO','Z_PUNTO_VENTA','Z_GAMA','Z_WEEK'], ascending=True)\n",
    "total_data.head()"
   ]
  },
  {
   "cell_type": "code",
   "execution_count": null,
   "id": "4b381d59",
   "metadata": {},
   "outputs": [],
   "source": [
    "total_data = total_data.merge(df_train[['Z_MODELO','Z_PUNTO_VENTA','Z_GAMA','Z_WEEK','Demanda']],on=['Z_MODELO','Z_PUNTO_VENTA','Z_GAMA','Z_WEEK'],how='left')"
   ]
  },
  {
   "cell_type": "code",
   "execution_count": null,
   "id": "fe98d3c2",
   "metadata": {},
   "outputs": [],
   "source": [
    "total_data['Z_WEEK_DATE'] = total_data['Z_WEEK'].map(dates_total_dict)"
   ]
  },
  {
   "cell_type": "code",
   "execution_count": null,
   "id": "3e6a5531",
   "metadata": {},
   "outputs": [],
   "source": [
    "df_train_aux = total_data[total_data['Z_WEEK']<='SEMANA_50']\n",
    "df_test_aux  = total_data[total_data['Z_WEEK']>'SEMANA_50']"
   ]
  },
  {
   "cell_type": "code",
   "execution_count": null,
   "id": "85b3df34",
   "metadata": {},
   "outputs": [],
   "source": [
    "\n",
    "def reduce_mem_usage(df):\n",
    "    \"\"\" iterate through all the columns of a dataframe and modify the data type\n",
    "        to reduce memory usage.        \n",
    "    \"\"\"\n",
    "    start_mem = df.memory_usage().sum() / 1024**2\n",
    "    print('Memory usage of dataframe is {:.2f} MB'.format(start_mem))\n",
    "    numerics = ['int16', 'int32', 'int64', 'float16', 'float32', 'float64']\n",
    "    \n",
    "    for col in df.columns:\n",
    "        col_type = df[col].dtype\n",
    "        \n",
    "        if col_type != object:\n",
    "            if str(col_type) == numerics:\n",
    "                c_min = df[col].min()\n",
    "                c_max = df[col].max()\n",
    "\n",
    "                if c_min > np.iinfo(np.int8).min and c_max < np.iinfo(np.int8).max:\n",
    "                    df[col] = df[col].astype(np.int8)\n",
    "                elif c_min > np.iinfo(np.int16).min and c_max < np.iinfo(np.int16).max:\n",
    "                    df[col] = df[col].astype(np.int16)\n",
    "                elif c_min > np.iinfo(np.int32).min and c_max < np.iinfo(np.int32).max:\n",
    "                    df[col] = df[col].astype(np.int32)\n",
    "                elif c_min > np.iinfo(np.int64).min and c_max < np.iinfo(np.int64).max:\n",
    "                    df[col] = df[col].astype(np.int64)  \n",
    "            if str(col_type)[:5] == 'float':\n",
    "                c_min = df[col].min()\n",
    "                c_max = df[col].max()\n",
    "\n",
    "                if c_min > np.finfo(np.float16).min and c_max < np.finfo(np.float16).max:\n",
    "                    df[col] = df[col].astype(np.float16)\n",
    "                elif c_min > np.finfo(np.float32).min and c_max < np.finfo(np.float32).max:\n",
    "                    df[col] = df[col].astype(np.float32)\n",
    "                else:\n",
    "                    df[col] = df[col].astype(np.float64)\n",
    "        else:\n",
    "            df[col] = df[col].astype('category')\n",
    "\n",
    "    end_mem = df.memory_usage().sum() / 1024**2\n",
    "    print('Memory usage after optimization is: {:.2f} MB'.format(end_mem))\n",
    "    print('Decreased by {:.1f}%'.format(100 * (start_mem - end_mem) / start_mem))\n",
    "    \n",
    "    return df\n",
    "\n",
    "## Simple \"Memory profilers\" to see memory usage\n",
    "def get_memory_usage():\n",
    "    return np.round(psutil.Process(os.getpid()).memory_info()[0]/2.**30, 2) \n",
    "        \n",
    "def sizeof_fmt(num, suffix='B'):\n",
    "    for unit in ['','Ki','Mi','Gi','Ti','Pi','Ei','Zi']:\n",
    "        if abs(num) < 1024.0:\n",
    "            return \"%3.1f%s%s\" % (num, unit, suffix)\n",
    "        num /= 1024.0\n",
    "    return \"%.1f%s%s\" % (num, 'Yi', suffix)\n"
   ]
  },
  {
   "cell_type": "code",
   "execution_count": 16,
   "id": "68c59594",
   "metadata": {
    "scrolled": true
   },
   "outputs": [
    {
     "name": "stdout",
     "output_type": "stream",
     "text": [
      "Memory usage of dataframe is 877.00 MB\n",
      "Memory usage after optimization is: 877.00 MB\n",
      "Decreased by 0.0%\n"
     ]
    },
    {
     "name": "stderr",
     "output_type": "stream",
     "text": [
      "/tmp/ipykernel_3577/2045469029.py:30: SettingWithCopyWarning: \n",
      "A value is trying to be set on a copy of a slice from a DataFrame.\n",
      "Try using .loc[row_indexer,col_indexer] = value instead\n",
      "\n",
      "See the caveats in the documentation: https://pandas.pydata.org/pandas-docs/stable/user_guide/indexing.html#returning-a-view-versus-a-copy\n",
      "  df[col] = df[col].astype(np.float16)\n"
     ]
    }
   ],
   "source": [
    "df_train_aux = reduce_mem_usage(df_train_aux)"
   ]
  },
  {
   "cell_type": "code",
   "execution_count": 15,
   "id": "98a2b124",
   "metadata": {},
   "outputs": [
    {
     "name": "stdout",
     "output_type": "stream",
     "text": [
      "Memory usage of dataframe is 237.33 MB\n",
      "Memory usage after optimization is: 237.33 MB\n",
      "Decreased by 0.0%\n"
     ]
    },
    {
     "name": "stderr",
     "output_type": "stream",
     "text": [
      "/tmp/ipykernel_3577/2045469029.py:34: SettingWithCopyWarning: \n",
      "A value is trying to be set on a copy of a slice from a DataFrame.\n",
      "Try using .loc[row_indexer,col_indexer] = value instead\n",
      "\n",
      "See the caveats in the documentation: https://pandas.pydata.org/pandas-docs/stable/user_guide/indexing.html#returning-a-view-versus-a-copy\n",
      "  df[col] = df[col].astype(np.float64)\n"
     ]
    }
   ],
   "source": [
    "df_test_aux = reduce_mem_usage(df_test_aux)\n"
   ]
  },
  {
   "cell_type": "code",
   "execution_count": null,
   "id": "77f0ed7a",
   "metadata": {},
   "outputs": [],
   "source": []
  },
  {
   "cell_type": "code",
   "execution_count": 17,
   "id": "9d98b40b",
   "metadata": {},
   "outputs": [
    {
     "name": "stdout",
     "output_type": "stream",
     "text": [
      "891 ms ± 79.6 ms per loop (mean ± std. dev. of 7 runs, 1 loop each)\n"
     ]
    }
   ],
   "source": [
    "%timeit df_train_aux.to_pickle('../../dataset/train/train_converted_fill.pkl')\n"
   ]
  },
  {
   "cell_type": "code",
   "execution_count": 18,
   "id": "32697d44",
   "metadata": {},
   "outputs": [
    {
     "name": "stdout",
     "output_type": "stream",
     "text": [
      "523 ms ± 56.2 ms per loop (mean ± std. dev. of 7 runs, 1 loop each)\n"
     ]
    }
   ],
   "source": [
    "%timeit df_test_aux.to_pickle('../../dataset/test/test_converted_fill.pkl')"
   ]
  },
  {
   "cell_type": "code",
   "execution_count": null,
   "id": "5bd5dfbf",
   "metadata": {},
   "outputs": [],
   "source": []
  },
  {
   "cell_type": "code",
   "execution_count": null,
   "id": "11ede381",
   "metadata": {},
   "outputs": [],
   "source": []
  },
  {
   "cell_type": "code",
   "execution_count": null,
   "id": "9a0fe69e",
   "metadata": {},
   "outputs": [],
   "source": []
  }
 ],
 "metadata": {
  "kernelspec": {
   "display_name": "Python 3 (ipykernel)",
   "language": "python",
   "name": "python3"
  },
  "language_info": {
   "codemirror_mode": {
    "name": "ipython",
    "version": 3
   },
   "file_extension": ".py",
   "mimetype": "text/x-python",
   "name": "python",
   "nbconvert_exporter": "python",
   "pygments_lexer": "ipython3",
   "version": "3.8.12"
  }
 },
 "nbformat": 4,
 "nbformat_minor": 5
}
