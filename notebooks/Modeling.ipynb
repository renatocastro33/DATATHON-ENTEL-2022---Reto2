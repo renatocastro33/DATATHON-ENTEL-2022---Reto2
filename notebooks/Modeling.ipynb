{
 "cells": [
  {
   "cell_type": "code",
   "execution_count": 18,
   "id": "dd5b04cd-5d7e-49b9-bddb-9375d76925bd",
   "metadata": {},
   "outputs": [],
   "source": [
    "### Data Science Libraries ###\n",
    "import pandas as pd\n",
    "import numpy as np\n",
    "import seaborn as sns\n",
    "\n",
    "### Machine Learning Libraries ###\n",
    " \n",
    "from sklearn.model_selection import train_test_split\n",
    "from sklearn.metrics import mean_squared_error\n",
    "from sklearn.metrics import r2_score\n",
    "from sklearn.inspection import permutation_importance\n",
    "import catboost as cb\n",
    "import lightgbm as lgbm\n",
    "import xgboost as xgb\n",
    "\n",
    "### OS and other Libraries ###\n",
    "import inspect\n",
    "import os\n",
    "import datetime\n",
    "import warnings\n",
    "warnings.filterwarnings('ignore')\n",
    "import random\n",
    "import pickle"
   ]
  },
  {
   "cell_type": "code",
   "execution_count": 1,
   "id": "47990772-5909-4964-9e79-a8f43763bb32",
   "metadata": {},
   "outputs": [
    {
     "data": {
      "text/plain": [
       "'C:\\\\Users\\\\renatocastro\\\\Kaggle\\\\Competencias\\\\notebooks'"
      ]
     },
     "execution_count": 1,
     "metadata": {},
     "output_type": "execute_result"
    }
   ],
   "source": [
    "pwd"
   ]
  },
  {
   "cell_type": "code",
   "execution_count": 20,
   "id": "11d1c752-834e-4ad1-9821-4b85f26106d6",
   "metadata": {},
   "outputs": [],
   "source": [
    "train = pd.read_csv('..\\\\dataset\\\\train\\\\train_converted.csv')\n",
    "test = pd.read_csv('..\\\\dataset\\\\test\\\\test_converted.csv')"
   ]
  },
  {
   "cell_type": "code",
   "execution_count": 21,
   "id": "f6a1371c-0a53-4d04-85cd-b84e29da4a5d",
   "metadata": {},
   "outputs": [],
   "source": [
    "descriptive_columns = ['Z_MARCA', 'Z_GAMA', 'Z_MODELO',\n",
    "                       'Z_DEPARTAMENTO', 'Z_PUNTO_VENTA']"
   ]
  },
  {
   "cell_type": "code",
   "execution_count": 22,
   "id": "608755bb-7d56-4f23-b439-d1e0d0e8d217",
   "metadata": {},
   "outputs": [],
   "source": [
    "X_train = train[['Z_MARCA', 'Z_GAMA', 'Z_MODELO', \n",
    "           'Z_DEPARTAMENTO', 'Z_PUNTO_VENTA',\n",
    "           'Z_DAY', 'Z_MONTH', 'Z_YEAR'\n",
    "          ]]\n",
    "y = train['Demanda']\n",
    "\n",
    "X_test = test[['Z_MARCA', 'Z_GAMA', 'Z_MODELO', \n",
    "           'Z_DEPARTAMENTO', 'Z_PUNTO_VENTA',\n",
    "           'Z_DAY', 'Z_MONTH', 'Z_YEAR'\n",
    "          ]]\n",
    "#y = test['Demanda']"
   ]
  },
  {
   "cell_type": "code",
   "execution_count": 11,
   "id": "4e11dee8-6116-49d5-b11f-98d5d426e9db",
   "metadata": {},
   "outputs": [],
   "source": [
    "for feature in descriptive_columns:\n",
    "    X_train[feature] = pd.Series(X_train[feature], dtype=\"category\")\n",
    "    X_test[feature] = pd.Series(X_test[feature], dtype=\"category\")"
   ]
  },
  {
   "cell_type": "code",
   "execution_count": 13,
   "id": "b2bdf7df-6ae6-4a49-b3cc-66b76aa4472a",
   "metadata": {},
   "outputs": [],
   "source": [
    "random_seed = 2019\n",
    "np.random.seed(random_seed)"
   ]
  },
  {
   "cell_type": "code",
   "execution_count": 14,
   "id": "7a926568-d2bd-4cd4-a135-99bf7f0377cd",
   "metadata": {},
   "outputs": [],
   "source": [
    "X_training, X_val, y_training, y_val = train_test_split(X_train, y,\n",
    "                                                    test_size = 0.2,\n",
    "                                                    random_state=90)"
   ]
  },
  {
   "cell_type": "code",
   "execution_count": 15,
   "id": "c8aab2f2-af44-44d4-8543-e93eb9bdf930",
   "metadata": {},
   "outputs": [
    {
     "data": {
      "text/plain": [
       "array([0, 1, 2, 3, 4], dtype=int64)"
      ]
     },
     "execution_count": 15,
     "metadata": {},
     "output_type": "execute_result"
    }
   ],
   "source": [
    "categorical_features_indices = np.where(X_train.dtypes == 'category') [0]\n",
    "categorical_features_indices"
   ]
  },
  {
   "cell_type": "code",
   "execution_count": 16,
   "id": "4b3f27ba-23de-43fc-b504-7420d3b5fae5",
   "metadata": {},
   "outputs": [],
   "source": [
    "train_pool = cb.Pool(X_training, y_training,cat_features=categorical_features_indices)\n",
    "validation_pool = cb.Pool(X_val, y_val,cat_features=categorical_features_indices)"
   ]
  },
  {
   "cell_type": "code",
   "execution_count": 17,
   "id": "7b79d512-af3b-449f-99a9-54931901741d",
   "metadata": {},
   "outputs": [
    {
     "data": {
      "application/vnd.jupyter.widget-view+json": {
       "model_id": "1dfbd353f63b48f38adbf126cdd67ae7",
       "version_major": 2,
       "version_minor": 0
      },
      "text/plain": [
       "MetricVisualizer(layout=Layout(align_self='stretch', height='500px'))"
      ]
     },
     "metadata": {},
     "output_type": "display_data"
    },
    {
     "name": "stdout",
     "output_type": "stream",
     "text": [
      "Learning rate set to 0.062347\n",
      "0:\tlearn: 5.8758087\ttest: 5.7331899\tbest: 5.7331899 (0)\ttotal: 687ms\tremaining: 57m 14s\n"
     ]
    },
    {
     "name": "stderr",
     "output_type": "stream",
     "text": [
      "\n",
      "KeyboardInterrupt\n",
      "\n"
     ]
    }
   ],
   "source": [
    "model = cb.CatBoostRegressor(iterations=5000,  random_seed=42, early_stopping_rounds=50)\n",
    "\n",
    "model.fit(train_pool, eval_set=validation_pool, verbose=100, plot=True)"
   ]
  },
  {
   "cell_type": "code",
   "execution_count": null,
   "id": "95ca829c-89e2-4dd8-aeae-c1a9d62a641e",
   "metadata": {},
   "outputs": [],
   "source": [
    "y_pred = model.predict(X_val)"
   ]
  },
  {
   "cell_type": "code",
   "execution_count": null,
   "id": "4aba7c01-82b6-4ca2-aca0-c6efb4821270",
   "metadata": {},
   "outputs": [],
   "source": [
    "from sklearn.metrics import mean_squared_error\n",
    "import math\n",
    "mse = mean_squared_error(y_val, y_pred)\n",
    "rmse = math.sqrt(mse)\n",
    "print('RMSE: %f' % rmse)"
   ]
  },
  {
   "cell_type": "code",
   "execution_count": null,
   "id": "aad2e512-63b5-4fc3-9aab-b4a8c7c03442",
   "metadata": {},
   "outputs": [],
   "source": [
    "submit = test.copy()"
   ]
  },
  {
   "cell_type": "code",
   "execution_count": null,
   "id": "ffe412ff-2e80-40a9-8451-2d9955f9acc5",
   "metadata": {},
   "outputs": [],
   "source": [
    "submit['Demanda'] = model.predict(X_test)"
   ]
  },
  {
   "cell_type": "code",
   "execution_count": null,
   "id": "e57276bf-b0d6-4486-8b48-a636bbe18d34",
   "metadata": {},
   "outputs": [],
   "source": [
    "submit.loc[submit['Demanda'] < 0, 'Demanda'] = 0 "
   ]
  },
  {
   "cell_type": "code",
   "execution_count": null,
   "id": "7f9bcf97-7d13-4d31-96ea-bfdb16cf4f2c",
   "metadata": {},
   "outputs": [],
   "source": [
    "reverse_mapping_file = '..\\\\utils\\\\reverse_dict_mapping_list.txt'\n",
    "\n",
    "with open(reverse_mapping_file, 'rb') as f:\n",
    "    reverse_mapping = pickle.load( f)"
   ]
  },
  {
   "cell_type": "code",
   "execution_count": null,
   "id": "040285ea-cebf-4669-b303-9cea28c8828e",
   "metadata": {},
   "outputs": [],
   "source": [
    "i=0\n",
    "for column in descriptive_columns:\n",
    "    submit[column] = submit[column].map(reverse_mapping[i])\n",
    "    i+=1"
   ]
  },
  {
   "cell_type": "code",
   "execution_count": null,
   "id": "d63aa7ec-208b-4d8e-bb53-1bb6ae631cdb",
   "metadata": {},
   "outputs": [],
   "source": [
    "submit['ID'] = submit['Z_MODELO'] + '|' + submit['Z_PUNTO_VENTA'] + '|' + submit['Z_GAMA'] + '|' + submit['Z_WEEK']"
   ]
  },
  {
   "cell_type": "code",
   "execution_count": null,
   "id": "82f21c01-ffe1-47cf-a69e-33b201163852",
   "metadata": {},
   "outputs": [],
   "source": [
    "submission = submit[['ID','Demanda']].groupby('ID').sum().reset_index()"
   ]
  },
  {
   "cell_type": "code",
   "execution_count": null,
   "id": "261050fa-5e4f-4603-8bde-fe6893e488ff",
   "metadata": {},
   "outputs": [],
   "source": [
    "submission[['ID', 'Demanda']].to_csv('Submission_01.csv', index = False, sep = ',')"
   ]
  }
 ],
 "metadata": {
  "kernelspec": {
   "display_name": "Python 3",
   "language": "python",
   "name": "python3"
  },
  "language_info": {
   "codemirror_mode": {
    "name": "ipython",
    "version": 3
   },
   "file_extension": ".py",
   "mimetype": "text/x-python",
   "name": "python",
   "nbconvert_exporter": "python",
   "pygments_lexer": "ipython3",
   "version": "3.7.13"
  }
 },
 "nbformat": 4,
 "nbformat_minor": 5
}
